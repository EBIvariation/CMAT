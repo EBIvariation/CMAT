{
 "cells": [
  {
   "cell_type": "code",
   "execution_count": 4,
   "id": "a90eb7ac-ad70-4617-8bf5-5ebab72e3731",
   "metadata": {
    "tags": []
   },
   "outputs": [],
   "source": [
    "import sys\n",
    "sys.path.append('..')"
   ]
  },
  {
   "cell_type": "code",
   "execution_count": 7,
   "id": "82079686-bcfd-4b4a-8963-6f3467e9e96d",
   "metadata": {
    "tags": []
   },
   "outputs": [],
   "source": [
    "from filter_clinvar_xml import filter_xml, pprint, iterate_cvs_from_xml\n",
    "\n",
    "from cmat.clinvar_xml_io import *\n",
    "from cmat.clinvar_xml_io.xml_parsing import *\n",
    "\n",
    "import gzip\n",
    "import os\n",
    "import re\n",
    "import json"
   ]
  },
  {
   "cell_type": "code",
   "execution_count": 17,
   "id": "d917f8b6-9b46-44a3-a29f-84c1b5494106",
   "metadata": {
    "tags": []
   },
   "outputs": [],
   "source": [
    "work_dir = os.getenv('WORK_DIR')"
   ]
  },
  {
   "cell_type": "code",
   "execution_count": 19,
   "id": "2358426a-1c25-4339-957f-f0f243067621",
   "metadata": {
    "tags": []
   },
   "outputs": [],
   "source": [
    "march_clinvar = os.path.join(work_dir, 'march-full-clinvar.xml.gz')\n",
    "june_clinvar = os.path.join(work_dir, 'june-full-clinvar.xml.gz')\n",
    "\n",
    "march_evidence = os.path.join(work_dir, 'cttv012-2025-01-23.json.gz')\n",
    "june_evidence = os.path.join(work_dir, 'cttv012-2025-05-12.json.gz')"
   ]
  },
  {
   "cell_type": "code",
   "execution_count": 36,
   "id": "6da20372-3d37-4494-a467-ec6a1f5cbed5",
   "metadata": {
    "tags": []
   },
   "outputs": [],
   "source": [
    "# Get all RCVs present in 25.06 evidence without EFO mapping\n",
    "june_rcvs_no_efo = set()\n",
    "with gzip.open(june_evidence, 'rt') as june_ev_file:\n",
    "    for line in june_ev_file:\n",
    "        ev = json.loads(line)\n",
    "        if 'diseaseFromSourceMappedId' not in ev:\n",
    "            june_rcvs_no_efo.add(ev['studyId'])            "
   ]
  },
  {
   "cell_type": "code",
   "execution_count": 37,
   "id": "53899d9a-b06c-439e-98a1-243a80be91fa",
   "metadata": {
    "tags": []
   },
   "outputs": [
    {
     "data": {
      "text/plain": [
       "1093765"
      ]
     },
     "execution_count": 37,
     "metadata": {},
     "output_type": "execute_result"
    }
   ],
   "source": [
    "len(june_rcvs_no_efo)"
   ]
  },
  {
   "cell_type": "code",
   "execution_count": 39,
   "id": "65bd81b8-d1f1-4c2f-8866-29ca8149d7a3",
   "metadata": {
    "tags": []
   },
   "outputs": [],
   "source": [
    "# Remove all RCVs also present in 25.03 evidence without EFO mapping\n",
    "with gzip.open(march_evidence, 'rt') as mar_ev_file:\n",
    "    for line in mar_ev_file:\n",
    "        ev = json.loads(line)\n",
    "        if 'diseaseFromSourceMappedId' not in ev:\n",
    "            june_rcvs_no_efo.discard(ev['studyId'])"
   ]
  },
  {
   "cell_type": "code",
   "execution_count": 40,
   "id": "7a60592b-6967-4f7a-aba1-dfb6cad9ab39",
   "metadata": {
    "tags": []
   },
   "outputs": [
    {
     "data": {
      "text/plain": [
       "877745"
      ]
     },
     "execution_count": 40,
     "metadata": {},
     "output_type": "execute_result"
    }
   ],
   "source": [
    "len(june_rcvs_no_efo)"
   ]
  },
  {
   "cell_type": "code",
   "execution_count": 42,
   "id": "4ba86553-e1d5-4820-8082-00220a789701",
   "metadata": {
    "tags": []
   },
   "outputs": [],
   "source": [
    "# Of the remainder, count how many are new in this version of ClinVar and how many were present in the last version we used\n",
    "# Partition into RCVs present in March version of ClinVar, and those not (i.e. new in June)\n",
    "no_efo_rcvs_present_in_march = set()\n",
    "for record in ClinVarDataset(march_clinvar):\n",
    "    if record.accession in june_rcvs_no_efo:\n",
    "        no_efo_rcvs_present_in_march.add(record.accession)\n",
    "        june_rcvs_no_efo.remove(record.accession)"
   ]
  },
  {
   "cell_type": "code",
   "execution_count": 43,
   "id": "80635977-092e-4174-8b23-7a7f7f0418b7",
   "metadata": {
    "tags": []
   },
   "outputs": [
    {
     "data": {
      "text/plain": [
       "101398"
      ]
     },
     "execution_count": 43,
     "metadata": {},
     "output_type": "execute_result"
    }
   ],
   "source": [
    "len(june_rcvs_no_efo)"
   ]
  },
  {
   "cell_type": "code",
   "execution_count": 44,
   "id": "b0d0b147-aecc-43a3-8c46-4aec35938492",
   "metadata": {
    "tags": []
   },
   "outputs": [
    {
     "data": {
      "text/plain": [
       "776347"
      ]
     },
     "execution_count": 44,
     "metadata": {},
     "output_type": "execute_result"
    }
   ],
   "source": [
    "len(no_efo_rcvs_present_in_march)"
   ]
  },
  {
   "cell_type": "code",
   "execution_count": 45,
   "id": "02d32abe-4459-483e-aa0b-7e11ed73571a",
   "metadata": {
    "tags": []
   },
   "outputs": [],
   "source": [
    "with open(os.path.join(work_dir, 'new_unmapped_rcvs.txt'), 'w+') as f:\n",
    "    f.write('\\n'.join(june_rcvs_no_efo))\n",
    "    \n",
    "with open(os.path.join(work_dir, 'existing_unmapped_rcvs.txt'), 'w+') as f:\n",
    "    f.write('\\n'.join(no_efo_rcvs_present_in_march))"
   ]
  },
  {
   "cell_type": "markdown",
   "id": "580fe009-da06-4b36-9e38-41fd4ee302b8",
   "metadata": {},
   "source": [
    "* 101,398 RCVs (`june_rcvs_no_efo` -> `new_unmapped_rcvs.txt`)\n",
    "    * no EFO mapping\n",
    "    * present in June but not March evidence\n",
    "    * present in June but not March ClinVar\n",
    "* 776,347 RCVs (`no_efo_rcvs_present_in_march` -> `existing_unmapped_rcvs.txt`)\n",
    "    * no EFO mapping\n",
    "    * present in June but not March evidence\n",
    "    * present in June **and also** March ClinVar\n",
    "    * These are the ones that moved from filtered out (fatal) to no mapping (skipped)\n",
    "    \n",
    "The 101K \"new unmapped\" RCVs are of some interest to us as a lot of these get added every month to ClinVar, but for now we'll focus on the 776K that used to be filtered out and are now included with no EFO mapping.\n",
    "\n",
    "Example: `RCV000024525`\n",
    "* present in Jan ClinVar (used in March sub) with \"not provided\"\n",
    "* [modified in Feb](https://www.ncbi.nlm.nih.gov/clinvar/RCV000024525/) to include synonyms `RECLASSIFIED - ADRA2C POLYMORPHISM; RECLASSIFIED - ADRB1 POLYMORPHISM` ([medgen](https://www.ncbi.nlm.nih.gov/medgen/C3661900))"
   ]
  },
  {
   "cell_type": "markdown",
   "id": "63e4bdfe-17ab-4ae2-84c0-dd8abb5dfcca",
   "metadata": {},
   "source": [
    "Possibly related issue: [#384](https://github.com/EBIvariation/CMAT/issues/384)\n",
    "\n",
    "See trait annotation code [here](https://github.com/EBIvariation/CMAT/blob/master/cmat/output_generation/clinvar_to_evidence_strings.py#L407). This operates on all `traits_with_valid_names` for a record. These \"reclassified\" terms got added as synonyms for [`not provided`](https://www.ncbi.nlm.nih.gov/medgen/C3661900), but aren't recognised as invalid as they're not in the nonspecific trait names list - hence they show up as unmapped in the evidence.\n",
    "\n",
    "If this is true we can resolve it in two ways:\n",
    "1. Add these \"reclassified\" terms to the nonspecific trait names list\n",
    "2. Modify the annotation to exclude an unmapped trait entirely if _any_ of its synonyms appear in the nonspecific trait names list"
   ]
  },
  {
   "cell_type": "code",
   "execution_count": 48,
   "id": "3baa9ae0-7933-4749-a25b-799771ae6764",
   "metadata": {
    "tags": []
   },
   "outputs": [],
   "source": [
    "from collections import Counter"
   ]
  },
  {
   "cell_type": "code",
   "execution_count": 53,
   "id": "6e196cdd-cf95-4a66-86ec-df27847e2f39",
   "metadata": {
    "tags": []
   },
   "outputs": [],
   "source": [
    "# For both March and June ClinVars,\n",
    "#   For each RCV, get its preferred_or_other_valid_name (omits \"not provided\" etc.) and all_names (what we attempt to map, includes everything)\n",
    "\n",
    "def get_preferred_and_all_names(clinvar_dataset):\n",
    "    preferred_names = Counter()\n",
    "    all_names = Counter()\n",
    "    no_traits_with_valid_names = set()\n",
    "    seen = 0\n",
    "    for record in clinvar_dataset:\n",
    "        if record.accession in no_efo_rcvs_present_in_march:\n",
    "            seen += 1\n",
    "            if not record.traits_with_valid_names:\n",
    "                no_traits_with_valid_names.add(record.accession)\n",
    "                continue\n",
    "            for trait in record.traits_with_valid_names:\n",
    "                preferred_names[trait.preferred_or_other_valid_name] += 1\n",
    "                for n in trait.all_names:\n",
    "                    all_names[n] += 1\n",
    "        # early stopping\n",
    "        if seen == len(no_efo_rcvs_present_in_march):\n",
    "            break\n",
    "    return no_traits_with_valid_names, preferred_names, all_names"
   ]
  },
  {
   "cell_type": "code",
   "execution_count": 50,
   "id": "04fb5ef6-4d00-4611-8d04-8208feb4e2c7",
   "metadata": {
    "tags": []
   },
   "outputs": [],
   "source": [
    "march_dataset = ClinVarDataset(march_clinvar)\n",
    "june_dataset = ClinVarDataset(june_clinvar)"
   ]
  },
  {
   "cell_type": "code",
   "execution_count": 54,
   "id": "d02d0902-c24a-44e4-ba7f-2bb8d08217f1",
   "metadata": {
    "tags": []
   },
   "outputs": [],
   "source": [
    "march_no_valid_traits, march_preferred_names, march_all_names = get_preferred_and_all_names(march_dataset)"
   ]
  },
  {
   "cell_type": "code",
   "execution_count": 55,
   "id": "3d671bbd-30e3-4d80-abf0-b036b367926a",
   "metadata": {
    "tags": []
   },
   "outputs": [
    {
     "data": {
      "text/plain": [
       "775329"
      ]
     },
     "execution_count": 55,
     "metadata": {},
     "output_type": "execute_result"
    }
   ],
   "source": [
    "len(march_no_valid_traits)"
   ]
  },
  {
   "cell_type": "code",
   "execution_count": 56,
   "id": "694ae621-4919-4774-ae6f-b1966861637d",
   "metadata": {
    "tags": []
   },
   "outputs": [
    {
     "data": {
      "text/plain": [
       "Counter({'Autoimmune lymphoproliferative syndrome, type 1b': 2,\n",
       "         'Epilepsy, childhood absence 2': 524,\n",
       "         'Febrile seizures, familial, 8': 443,\n",
       "         'Glucocorticoid resistance, relative': 1,\n",
       "         'Oculopharyngeal muscular dystrophy 2': 1,\n",
       "         'Myoclonic-astatic epilepsy': 124,\n",
       "         'Developmental and epileptic encephalopathy, 74': 1,\n",
       "         'Distal Renal Tubular Acidosis, Recessive': 1,\n",
       "         'POLR3-related leukodystrophy': 26,\n",
       "         'Leukoencephalopathy-ataxia-hypodontia-hypomyelination syndrome': 301,\n",
       "         'Hypogonadotropic hypogonadism 7 with or without anosmia': 3,\n",
       "         'Hypomyelinating leukodystrophy 8 with or without oligodontia and-or hypogonadotropic hypogonadism': 9,\n",
       "         'Charcot-Marie-Tooth disease, demyelinating, IIA 1I': 4,\n",
       "         'Neonatal pseudo-hydrocephalic progeroid syndrome': 7,\n",
       "         'Autism spectrum disorder': 1,\n",
       "         'RECLASSIFIED - POLYMORPHISM': 1,\n",
       "         'RECLASSIFIED - ADRA2C POLYMORPHISM': 30,\n",
       "         'BASAL GANGLIA CALCIFICATION, IDIOPATHIC, 10, AUTOSOMAL RECESSIVE': 3,\n",
       "         'Pseudoarylsulfatase A deficiency': 1,\n",
       "         'Venous malformation': 1,\n",
       "         'Early onset Alzheimer disease with behavioral disturbance': 1,\n",
       "         'CARNITINE PALMITOYLTRANSFERASE IA POLYMORPHISM': 1})"
      ]
     },
     "execution_count": 56,
     "metadata": {},
     "output_type": "execute_result"
    }
   ],
   "source": [
    "march_preferred_names"
   ]
  },
  {
   "cell_type": "code",
   "execution_count": 57,
   "id": "7c5831e4-9fa6-43a9-93ac-9ad221d771d0",
   "metadata": {
    "tags": []
   },
   "outputs": [
    {
     "data": {
      "text/plain": [
       "Counter({'Autoimmune lymphoproliferative syndrome, type 1b': 2,\n",
       "         'Epilepsy, childhood absence 2': 524,\n",
       "         'CONVULSIONS, FAMILIAL FEBRILE, 8': 443,\n",
       "         'Febrile seizures, familial, 8': 443,\n",
       "         'Glucocorticoid resistance, relative': 1,\n",
       "         'Oculopharyngeal muscular dystrophy 2': 1,\n",
       "         'Generalized myoclonic-atonic seizure': 124,\n",
       "         'Myoclonic atonic seizures': 124,\n",
       "         'Myoclonic-astatic epilepsy': 124,\n",
       "         'Developmental and epileptic encephalopathy, 74': 1,\n",
       "         'EPILEPTIC ENCEPHALOPATHY, EARLY INFANTILE, 74': 1,\n",
       "         'Distal Renal Tubular Acidosis, Recessive': 1,\n",
       "         '4H leukodystrophy': 26,\n",
       "         'POLR-related leukodystrophy': 26,\n",
       "         'POLR3-related leukodystrophy': 26,\n",
       "         'Pol III-Related Leukodystrophies': 26,\n",
       "         'Pol III-related leukodystrophy': 26,\n",
       "         'ATAXIA, DELAYED DENTITION, AND HYPOMYELINATION': 301,\n",
       "         'Hypomyelination-hypogonadotropic hypogonadism-hypodontia syndrome': 301,\n",
       "         'LEUKODYSTROPHY, HYPOMYELINATING, 7, WITH OLIGODONTIA': 301,\n",
       "         'LEUKODYSTROPHY, HYPOMYELINATING, 7, WITH OLIGODONTIA AND HYPOGONADOTROPIC HYPOGONADISM': 301,\n",
       "         'LEUKODYSTROPHY, HYPOMYELINATING, 7, WITH OR WITHOUT OLIGODONTIA AND/OR HYPOGONADOTROPIC HYPOGONADISM': 301,\n",
       "         'LEUKODYSTROPHY, HYPOMYELINATING, 7, WITHOUT OLIGODONTIA OR HYPOGONADOTROPIC HYPOGONADISM': 301,\n",
       "         'LEUKOENCEPHALOPATHY, HYPOMYELINATING, WITH ATAXIA AND DELAYED DENTITION': 301,\n",
       "         'Leukodystrophy, hypomyelinating, with hypodontia and hypogonadotropic hypogonadism': 301,\n",
       "         'Leukoencephalopathy-ataxia-hypodontia-hypomyelination syndrome': 301,\n",
       "         'HYPOGONADOTROPIC HYPOGONADISM 7 WITHOUT ANOSMIA': 3,\n",
       "         'Hypogonadotropic hypogonadism 7 with or without anosmia': 3,\n",
       "         'Cerebellar hypoplasia with endosteal sclerosis': 9,\n",
       "         'Endosteal sclerosis-cerebellar hypoplasia syndrome': 9,\n",
       "         'Hypomyelinating leukodystrophy 8 with or without oligodontia and-or hypogonadotropic hypogonadism': 9,\n",
       "         'Hypomyelinating leukodystrophy 8, with or without oligodontia and/or hypogonadotropic hypogonadism': 9,\n",
       "         'LEUKODYSTROPHY, HYPOMYELINATING, 8, WITH HYPODONTIA AND HYPOGONADOTROPIC HYPOGONADISM': 9,\n",
       "         'CHARCOT-MARIE-TOOTH NEUROPATHY, TYPE 1I': 4,\n",
       "         'Charcot-Marie-Tooth disease, demyelinating, IIA 1I': 4,\n",
       "         'Charcot-Marie-Tooth disease, demyelinating, type 1I': 4,\n",
       "         'Neonatal pseudo-hydrocephalic progeroid syndrome': 7,\n",
       "         'Wiedemann-Rautenstrauch syndrome': 7,\n",
       "         'Autism spectrum disorder': 1,\n",
       "         'Autism spectrum disorders': 1,\n",
       "         'RECLASSIFIED - POLYMORPHISM': 1,\n",
       "         'RECLASSIFIED - ADRA2C POLYMORPHISM': 30,\n",
       "         'RECLASSIFIED - ADRB1 POLYMORPHISM': 30,\n",
       "         'none provided': 30,\n",
       "         'not provided': 30,\n",
       "         'BASAL GANGLIA CALCIFICATION, IDIOPATHIC, 10, AUTOSOMAL RECESSIVE': 3,\n",
       "         'Pseudoarylsulfatase A deficiency': 1,\n",
       "         'Venous malformation': 1,\n",
       "         'Early onset Alzheimer disease with behavioral disturbance': 1,\n",
       "         'CARNITINE PALMITOYLTRANSFERASE IA POLYMORPHISM': 1})"
      ]
     },
     "execution_count": 57,
     "metadata": {},
     "output_type": "execute_result"
    }
   ],
   "source": [
    "march_all_names"
   ]
  },
  {
   "cell_type": "markdown",
   "id": "dc3cab78-d1aa-42f0-ab59-279fd8ecd390",
   "metadata": {},
   "source": [
    "Note: the following commands ran but the notebook didn't save, I copy/pasted the output below."
   ]
  },
  {
   "cell_type": "code",
   "execution_count": null,
   "id": "00b70cbe-8ed1-4c5c-aff2-e5465a85d845",
   "metadata": {
    "tags": []
   },
   "outputs": [],
   "source": [
    "june_no_valid_traits, june_preferred_names, june_all_names = get_preferred_and_all_names(june_dataset)"
   ]
  },
  {
   "cell_type": "code",
   "execution_count": null,
   "id": "eb3b482a-8ea6-46b4-9134-dd23cf5ac77c",
   "metadata": {
    "tags": []
   },
   "outputs": [],
   "source": [
    "june_no_valid_traits"
   ]
  },
  {
   "cell_type": "markdown",
   "id": "bd321adc-ed5e-489e-b058-672a13c9cb66",
   "metadata": {},
   "source": [
    "```\n",
    "set()\n",
    "```"
   ]
  },
  {
   "cell_type": "code",
   "execution_count": null,
   "id": "c30c3ea6-9939-4aa8-9370-443b3d64cbca",
   "metadata": {
    "tags": []
   },
   "outputs": [],
   "source": [
    "june_preferred_names"
   ]
  },
  {
   "cell_type": "markdown",
   "id": "a715568b-538d-4325-b791-5bc738e85e9d",
   "metadata": {},
   "source": [
    "```\n",
    "Counter({'RECLASSIFIED - ADRA2C POLYMORPHISM': 775359,\n",
    "         'GLUCOCORTICOID RESISTANCE, MILD': 1,\n",
    "         'Epilepsy with myoclonic atonic seizures': 124,\n",
    "         'Basal ganglia calcification, idiopathic, 10, autosomal recessive': 3,\n",
    "         'EPILEPSY, CHILDHOOD ABSENCE, SUSCEPTIBILITY TO, 2': 524,\n",
    "         'Febrile seizures, familial, 8': 443,\n",
    "         'Developmental and epileptic encephalopathy, 74': 1,\n",
    "         'RECLASSIFIED - PLA2G7 POLYMORPHISM': 1,\n",
    "         'AUTOIMMUNE LYMPHOPROLIFERATIVE SYNDROME, TYPE IB': 2,\n",
    "         'Autism spectrum disorder': 1,\n",
    "         'Distal Renal Tubular Acidosis, Recessive': 1,\n",
    "         'Leukoencephalopathy, ataxia, hypodontia, hypomyelination syndrome': 301,\n",
    "         'POLR-related leukodystrophy': 26,\n",
    "         'Hypogonadotropic hypogonadism 7 with or without anosmia': 3,\n",
    "         'Hypomyelinating leukodystrophy 8 with or without oligodontia and-or hypogonadotropic hypogonadism': 9,\n",
    "         'Neonatal pseudo-hydrocephalic progeroid syndrome': 7,\n",
    "         'Charcot-Marie-Tooth disease, demyelinating, IIA 1I': 4,\n",
    "         'Pseudoarylsulfatase A deficiency': 1,\n",
    "         'Early onset Alzheimer disease with behavioral disturbance': 1,\n",
    "         'Venous malformation': 1,\n",
    "         'CPT1A POLYMORPHISM': 1,\n",
    "         'Oculopharyngeal muscular dystrophy 2': 1})\n",
    "```"
   ]
  },
  {
   "cell_type": "code",
   "execution_count": null,
   "id": "9baa1009-6321-40c1-93e0-539655308af0",
   "metadata": {
    "tags": []
   },
   "outputs": [],
   "source": [
    "june_all_names"
   ]
  },
  {
   "cell_type": "markdown",
   "id": "f334fd1a-d81d-4343-8245-16beee430b2a",
   "metadata": {},
   "source": [
    "```\n",
    "Counter({'RECLASSIFIED - ADRA2C POLYMORPHISM': 775359,\n",
    "         'RECLASSIFIED - ADRB1 POLYMORPHISM': 775359,\n",
    "         'none provided': 775359,\n",
    "         'not provided': 775359,\n",
    "         'GLUCOCORTICOID RESISTANCE, MILD': 1,\n",
    "         'Epilepsy with myoclonic atonic seizures': 124,\n",
    "         'Generalized myoclonic-atonic seizure': 124,\n",
    "         'Myoclonic atonic seizures': 124,\n",
    "         'Basal ganglia calcification, idiopathic, 10, autosomal recessive': 3,\n",
    "         'EPILEPSY, CHILDHOOD ABSENCE, SUSCEPTIBILITY TO, 2': 524,\n",
    "         'CONVULSIONS, FAMILIAL FEBRILE, 8': 443,\n",
    "         'Febrile seizures, familial, 8': 443,\n",
    "         'Developmental and epileptic encephalopathy, 74': 1,\n",
    "         'EPILEPTIC ENCEPHALOPATHY, EARLY INFANTILE, 74': 1,\n",
    "         'RECLASSIFIED - IL4R POLYMORPHISM': 1,\n",
    "         'RECLASSIFIED - MS4A2 POLYMORPHISM': 1,\n",
    "         'RECLASSIFIED - MYOC POLYMORPHISM': 1,\n",
    "         'RECLASSIFIED - PLA2G7 POLYMORPHISM': 1,\n",
    "         'RECLASSIFIED - POLYMORPHISM': 1,\n",
    "         'AUTOIMMUNE LYMPHOPROLIFERATIVE SYNDROME, TYPE IB': 2,\n",
    "         'Autism spectrum disorder': 1,\n",
    "         'Autism spectrum disorders': 1,\n",
    "         'Distal Renal Tubular Acidosis, Recessive': 1,\n",
    "         'ATAXIA, DELAYED DENTITION, AND HYPOMYELINATION': 301,\n",
    "         'LEUKODYSTROPHY, HYPOMYELINATING, 7, WITH OLIGODONTIA': 301,\n",
    "         'LEUKODYSTROPHY, HYPOMYELINATING, 7, WITH OLIGODONTIA AND HYPOGONADOTROPIC HYPOGONADISM': 301,\n",
    "         'LEUKODYSTROPHY, HYPOMYELINATING, 7, WITH OR WITHOUT OLIGODONTIA AND/OR HYPOGONADOTROPIC HYPOGONADISM': 301,\n",
    "         'LEUKODYSTROPHY, HYPOMYELINATING, 7, WITHOUT OLIGODONTIA OR HYPOGONADOTROPIC HYPOGONADISM': 301,\n",
    "         'LEUKOENCEPHALOPATHY, HYPOMYELINATING, WITH ATAXIA AND DELAYED DENTITION': 301,\n",
    "         'Leukodystrophy, hypomyelinating, with hypodontia and hypogonadotropic hypogonadism': 301,\n",
    "         'Leukoencephalopathy, ataxia, hypodontia, hypomyelination syndrome': 301,\n",
    "         '4H leukodystrophy': 26,\n",
    "         'POLR-related leukodystrophy': 26,\n",
    "         'HYPOGONADOTROPIC HYPOGONADISM 7 WITHOUT ANOSMIA': 3,\n",
    "         'Hypogonadotropic hypogonadism 7 with or without anosmia': 3,\n",
    "         'Endosteal sclerosis-cerebellar hypoplasia syndrome': 9,\n",
    "         'Hypomyelinating leukodystrophy 8 with or without oligodontia and-or hypogonadotropic hypogonadism': 9,\n",
    "         'Hypomyelinating leukodystrophy 8, with or without oligodontia and/or hypogonadotropic hypogonadism': 9,\n",
    "         'LEUKODYSTROPHY, HYPOMYELINATING, 8, WITH HYPODONTIA AND HYPOGONADOTROPIC HYPOGONADISM': 9,\n",
    "         'Neonatal pseudo-hydrocephalic progeroid syndrome': 7,\n",
    "         'Wiedemann-Rautenstrauch syndrome': 7,\n",
    "         'CHARCOT-MARIE-TOOTH NEUROPATHY, TYPE 1I': 4,\n",
    "         'Charcot-Marie-Tooth disease, demyelinating, IIA 1I': 4,\n",
    "         'Charcot-Marie-Tooth disease, demyelinating, type 1I': 4,\n",
    "         'Pseudoarylsulfatase A deficiency': 1,\n",
    "         'Early onset Alzheimer disease with behavioral disturbance': 1,\n",
    "         'Venous malformation': 1,\n",
    "         'CPT1A POLYMORPHISM': 1,\n",
    "         'Oculopharyngeal muscular dystrophy 2': 1})\n",
    "```"
   ]
  },
  {
   "cell_type": "code",
   "execution_count": null,
   "id": "20187946-0627-4204-87a5-a61abd8044c1",
   "metadata": {},
   "outputs": [],
   "source": []
  }
 ],
 "metadata": {
  "kernelspec": {
   "display_name": "my-pyenv",
   "language": "python",
   "name": "my-pyenv"
  },
  "language_info": {
   "codemirror_mode": {
    "name": "ipython",
    "version": 3
   },
   "file_extension": ".py",
   "mimetype": "text/x-python",
   "name": "python",
   "nbconvert_exporter": "python",
   "pygments_lexer": "ipython3",
   "version": "3.8.11"
  }
 },
 "nbformat": 4,
 "nbformat_minor": 5
}
