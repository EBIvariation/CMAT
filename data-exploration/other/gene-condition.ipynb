{
 "cells": [
  {
   "cell_type": "markdown",
   "id": "6db42ce0-b30a-43e5-99b4-3995427aba5d",
   "metadata": {},
   "source": [
    "## Gene-related condition/disorders\n",
    "\n",
    "* Pull out all traits associated with this submission/submitter (?)\n",
    "    * Needs to be by [submitter ID](https://www.ncbi.nlm.nih.gov/clinvar/submitters/239772/)\n",
    "    * Shouldn't use this as a long-term solution, just to ensure we get the right \"ground truth\" set\n",
    "* Does regex like `[0-9a-zA-Z]+-related .*` work?\n",
    "    * Precision/recall over this set\n",
    "* How many such traits have EFO/MONDO/HP terms?\n",
    "* How many such traits have Medgen terms?\n",
    "* How many such traits have records from other submitters?\n",
    "* How many associated variants have other records?\n",
    "    * Note we already know 99% of targets are covered by other records\n",
    "* Iterate on the regex as needed"
   ]
  },
  {
   "cell_type": "code",
   "execution_count": 1,
   "id": "26b64b61-0987-4b56-ad0a-57992bd4426b",
   "metadata": {
    "tags": []
   },
   "outputs": [],
   "source": [
    "import sys\n",
    "sys.path.append('..')"
   ]
  },
  {
   "cell_type": "code",
   "execution_count": 2,
   "id": "fd8c42b6-7dd3-4271-a2ac-3b7c95d2be4b",
   "metadata": {
    "tags": []
   },
   "outputs": [
    {
     "name": "stderr",
     "output_type": "stream",
     "text": [
      "/home/ashen/projects/eva-opentargets/venv/lib/python3.12/site-packages/cmat-3.3.2-py3.12.egg/cmat/clinvar_xml_io/clinvar_record.py:54: SyntaxWarning: invalid escape sequence '\\?'\n",
      "/home/ashen/projects/eva-opentargets/venv/lib/python3.12/site-packages/cmat-3.3.2-py3.12.egg/cmat/clinvar_xml_io/clinvar_record.py:54: SyntaxWarning: invalid escape sequence '\\?'\n",
      "/home/ashen/projects/eva-opentargets/venv/lib/python3.12/site-packages/cmat-3.3.2-py3.12.egg/cmat/clinvar_xml_io/hgvs_variant.py:35: SyntaxWarning: invalid escape sequence '\\.'\n",
      "/home/ashen/projects/eva-opentargets/venv/lib/python3.12/site-packages/cmat-3.3.2-py3.12.egg/cmat/clinvar_xml_io/hgvs_variant.py:35: SyntaxWarning: invalid escape sequence '\\.'\n",
      "/home/ashen/projects/eva-opentargets/venv/lib/python3.12/site-packages/cmat-3.3.2-py3.12.egg/cmat/output_generation/clinvar_to_evidence_strings.py:198: SyntaxWarning: invalid escape sequence '\\d'\n",
      "/home/ashen/projects/eva-opentargets/venv/lib/python3.12/site-packages/cmat-3.3.2-py3.12.egg/cmat/output_generation/clinvar_to_evidence_strings.py:198: SyntaxWarning: invalid escape sequence '\\d'\n"
     ]
    }
   ],
   "source": [
    "from filter_clinvar_xml import filter_xml, pprint, iterate_cvs_from_xml\n",
    "\n",
    "from cmat.clinvar_xml_io import *\n",
    "from cmat.clinvar_xml_io.xml_parsing import *\n",
    "\n",
    "import gzip\n",
    "import os\n",
    "import re\n",
    "import pandas as pd"
   ]
  },
  {
   "cell_type": "code",
   "execution_count": 4,
   "id": "280e6020-16cf-43f8-9f2e-da7e6862b7ea",
   "metadata": {},
   "outputs": [],
   "source": [
    "data_dir = os.getenv('WORK_DIR')\n",
    "full_clinvar_xml = os.path.join(data_dir, 'full-clinvar.xml.gz')\n",
    "prevention_xml = os.path.join(data_dir, 'prevention-records.xml.gz')"
   ]
  },
  {
   "cell_type": "code",
   "execution_count": 3,
   "id": "35a902e8-3c1b-46f5-ab0c-4e7610edf3c9",
   "metadata": {
    "tags": []
   },
   "outputs": [],
   "source": [
    "GENE_RELATED_DISORDER = r'^\\S+-related disorder$'"
   ]
  },
  {
   "cell_type": "code",
   "execution_count": 4,
   "id": "385c976a-b476-416f-8ad1-06c112709c86",
   "metadata": {},
   "outputs": [],
   "source": [
    "prevention_id = '239772'"
   ]
  },
  {
   "cell_type": "code",
   "execution_count": null,
   "id": "592a9b28-c9ad-4877-8ade-ee5570b1da37",
   "metadata": {},
   "outputs": [],
   "source": [
    "header = b'''<?xml version=\"1.0\" encoding=\"UTF-8\" standalone=\"yes\"?>\n",
    "<ReleaseSet Dated=\".\" xmlns:xsi=\"http://www.w3.org/2001/XMLSchema-instance\" Type=\"full\" xsi:noNamespaceSchemaLocation=\"http://ftp.ncbi.nlm.nih.gov/pub/clinvar/xsd_public/clinvar_public_2.0.xsd\">\n",
    "'''\n",
    "count = 0\n",
    "with gzip.open(prevention_xml, 'wb') as output_file:\n",
    "    output_file.write(header)\n",
    "    for raw_cvs_xml in iterate_cvs_from_xml(full_clinvar_xml):\n",
    "        \n",
    "        # 1. Trait must have a valid name\n",
    "        rcv = find_mandatory_unique_element(raw_cvs_xml, 'ReferenceClinVarAssertion')\n",
    "        record = ClinVarRecord(rcv, 2.0)\n",
    "        if len(record.traits_with_valid_names) == 0:\n",
    "            continue\n",
    "        \n",
    "        # 2. Record must have a PreventionGenetics submission\n",
    "        subs = find_elements(raw_cvs_xml, 'ClinVarAssertion/ClinVarAccession')\n",
    "        for s in subs:\n",
    "            org_id = s.attrib['OrgID']\n",
    "            if str(org_id) == prevention_id:\n",
    "                output_file.write(ElementTree.tostring(raw_cvs_xml))\n",
    "                count += 1\n",
    "                \n",
    "    output_file.write(b'</ReleaseSet>')\n",
    "print(f'Records written: {count}')\n",
    "\n",
    "# Records written: 112101"
   ]
  },
  {
   "cell_type": "code",
   "execution_count": 9,
   "id": "c7eef33c-eee3-44da-aa4e-a3d9906cab9e",
   "metadata": {
    "tags": []
   },
   "outputs": [],
   "source": [
    "prevention_dataset = ClinVarDataset(prevention_xml)"
   ]
  },
  {
   "cell_type": "code",
   "execution_count": 10,
   "id": "e9d7b5e4-9080-4256-b62f-d4d74118fe24",
   "metadata": {
    "tags": []
   },
   "outputs": [],
   "source": [
    "prevention_trait_names = set()\n",
    "for r in prevention_dataset:\n",
    "    for t in r.traits_with_valid_names:\n",
    "        prevention_trait_names.add(t.preferred_or_other_valid_name)"
   ]
  },
  {
   "cell_type": "code",
   "execution_count": 11,
   "id": "c0fe9959-cbba-468d-b7d8-93292ac40481",
   "metadata": {
    "tags": []
   },
   "outputs": [
    {
     "data": {
      "text/plain": [
       "5745"
      ]
     },
     "execution_count": 11,
     "metadata": {},
     "output_type": "execute_result"
    }
   ],
   "source": [
    "len(prevention_trait_names)"
   ]
  },
  {
   "cell_type": "code",
   "execution_count": 12,
   "id": "acbd8e22-b03f-46c7-9d39-96f31a7ba25e",
   "metadata": {
    "tags": []
   },
   "outputs": [],
   "source": [
    "prevention_trait_names = list(prevention_trait_names)"
   ]
  },
  {
   "cell_type": "code",
   "execution_count": 28,
   "id": "e2fbf95c-4de9-4784-802e-9c9aa2839cbd",
   "metadata": {
    "tags": []
   },
   "outputs": [],
   "source": [
    "not_related_disorder = [name for name in prevention_trait_names if not re.match(GENE_RELATED_DISORDER, name)]"
   ]
  },
  {
   "cell_type": "code",
   "execution_count": 35,
   "id": "d8fbccc7-1cdf-4c5d-a9a1-7bf84084adb7",
   "metadata": {
    "tags": []
   },
   "outputs": [
    {
     "data": {
      "text/plain": [
       "18"
      ]
     },
     "execution_count": 35,
     "metadata": {},
     "output_type": "execute_result"
    }
   ],
   "source": [
    "len(not_related_disorder)"
   ]
  },
  {
   "cell_type": "code",
   "execution_count": 29,
   "id": "d1a464a1-e8c4-40bf-9670-9b07c73f776f",
   "metadata": {
    "tags": []
   },
   "outputs": [
    {
     "data": {
      "text/plain": [
       "['Early-onset progressive diffuse brain atrophy-microcephaly-muscle weakness-optic atrophy syndrome',\n",
       " 'Niemann-Pick disease, type A',\n",
       " 'Congenital heart defects, dysmorphic facial features, and intellectual developmental disorder',\n",
       " 'Sandhoff disease',\n",
       " 'Spinocerebellar ataxia type 12',\n",
       " 'Von Hippel-Lindau syndrome',\n",
       " 'Polycystic kidney disease, adult type',\n",
       " 'Tyrosinase-negative oculocutaneous albinism',\n",
       " 'Mitral valve prolapse, myxomatous 2',\n",
       " 'Gaucher disease type I',\n",
       " 'Gaucher disease type III',\n",
       " 'Distinctive facial features',\n",
       " 'Multiple congenital anomalies',\n",
       " 'Gaucher disease type II',\n",
       " 'Van Maldergem syndrome 1',\n",
       " 'Anterior segment dysgenesis 7',\n",
       " 'Developmental delay',\n",
       " 'ASAH1-related disorders']"
      ]
     },
     "execution_count": 29,
     "metadata": {},
     "output_type": "execute_result"
    }
   ],
   "source": [
    "# Indicates we can't filter on submitter either\n",
    "# Also note *-related condition is indeed removed entirely - nothing to stop anyone from using another phrase for something similarly generic\n",
    "not_related_disorder"
   ]
  },
  {
   "cell_type": "markdown",
   "id": "989dbac4-df67-4a0a-ab13-a502879c568f",
   "metadata": {},
   "source": [
    "Don't think this is the right set to be looking at, could also do submission name (SUB14299258) or date (2024-03-08) to target the specific problematic submission but this also doesn't really address the root cause.\n",
    "\n",
    "This also raises the question as to whether we should filter gene-related condition as well as disorder, even though it's disappeared from this specific case it's still arguably not specific enough to be annotated properly. Maybe should leave it until it becomes a concrete problem though."
   ]
  },
  {
   "cell_type": "code",
   "execution_count": 6,
   "id": "e50d41a5-2176-4447-ac61-73b6a194d3ca",
   "metadata": {
    "tags": []
   },
   "outputs": [],
   "source": [
    "related_disorder_xml = os.path.join(data_dir, 'disorder-records.xml.gz')"
   ]
  },
  {
   "cell_type": "code",
   "execution_count": 33,
   "id": "88eab898-9d2e-485f-a8d7-9dd27932da6f",
   "metadata": {
    "tags": []
   },
   "outputs": [
    {
     "name": "stderr",
     "output_type": "stream",
     "text": [
      "INFO:filter_clinvar_xml:Records written: 122432\n"
     ]
    }
   ],
   "source": [
    "# Take another set, this time any with preferred trait name ending with \"related disorder\"\n",
    "\n",
    "def has_related_disorder_trait(x: ClinVarRecord):\n",
    "    for t in x.traits_with_valid_names:\n",
    "        if re.match(GENE_RELATED_DISORDER, t.preferred_or_other_valid_name):\n",
    "            return True\n",
    "    return False\n",
    "\n",
    "\n",
    "filter_xml(\n",
    "    input_xml=full_clinvar_xml,\n",
    "    output_xml=related_disorder_xml,\n",
    "    filter_fct=has_related_disorder_trait,\n",
    "    max_num=None,\n",
    ")"
   ]
  },
  {
   "cell_type": "code",
   "execution_count": 7,
   "id": "80422d27-87a1-455d-b2ed-31209a8a3d30",
   "metadata": {
    "tags": []
   },
   "outputs": [],
   "source": [
    "disorder_dataset = ClinVarDataset(related_disorder_xml)"
   ]
  },
  {
   "cell_type": "code",
   "execution_count": 41,
   "id": "4ac70f01-4026-4a07-86c4-acae572e6d11",
   "metadata": {
    "tags": []
   },
   "outputs": [],
   "source": [
    "import logging"
   ]
  },
  {
   "cell_type": "code",
   "execution_count": 42,
   "id": "eaae1892-a5cb-4e66-86ca-961b7fae8a54",
   "metadata": {
    "tags": []
   },
   "outputs": [],
   "source": [
    "logging.getLogger(\"cmat.clinvar_xml_io.clinvar_trait\").setLevel(logging.ERROR)"
   ]
  },
  {
   "cell_type": "code",
   "execution_count": 43,
   "id": "588feb44-1e5c-4e71-8abd-2b244b763495",
   "metadata": {},
   "outputs": [],
   "source": [
    "# Check coverage of MedGen terms within ClinVar\n",
    "n_disorder_traits = 0\n",
    "n_disorder_traits_with_medgen = 0\n",
    "trait_to_medgen = {}\n",
    "\n",
    "for record in disorder_dataset:\n",
    "    for trait in record.traits_with_valid_names:\n",
    "        if re.match(GENE_RELATED_DISORDER, trait.preferred_or_other_valid_name):\n",
    "            n_disorder_traits += 1\n",
    "            if trait.medgen_id:\n",
    "                n_disorder_traits_with_medgen += 1\n",
    "                trait_to_medgen[trait.preferred_or_other_valid_name] = trait.medgen_id"
   ]
  },
  {
   "cell_type": "code",
   "execution_count": 44,
   "id": "f0ef9597-3211-4ef4-838c-e375069bfe73",
   "metadata": {
    "tags": []
   },
   "outputs": [
    {
     "data": {
      "text/plain": [
       "122432"
      ]
     },
     "execution_count": 44,
     "metadata": {},
     "output_type": "execute_result"
    }
   ],
   "source": [
    "n_disorder_traits"
   ]
  },
  {
   "cell_type": "code",
   "execution_count": 45,
   "id": "7aa543aa-9254-465e-95d6-6568e358c2a8",
   "metadata": {
    "tags": []
   },
   "outputs": [
    {
     "data": {
      "text/plain": [
       "12006"
      ]
     },
     "execution_count": 45,
     "metadata": {},
     "output_type": "execute_result"
    }
   ],
   "source": [
    "n_disorder_traits_with_medgen"
   ]
  },
  {
   "cell_type": "code",
   "execution_count": 55,
   "id": "799ab5d9-b630-496d-8e3b-225e532d9ff9",
   "metadata": {
    "tags": []
   },
   "outputs": [
    {
     "data": {
      "text/plain": [
       "80"
      ]
     },
     "execution_count": 55,
     "metadata": {},
     "output_type": "execute_result"
    }
   ],
   "source": [
    "len(trait_to_medgen)"
   ]
  },
  {
   "cell_type": "code",
   "execution_count": 47,
   "id": "de73b6b3-b0d1-43a6-85e9-5c2ef27cf527",
   "metadata": {
    "tags": []
   },
   "outputs": [
    {
     "data": {
      "text/plain": [
       "0.09806259801359121"
      ]
     },
     "execution_count": 47,
     "metadata": {},
     "output_type": "execute_result"
    }
   ],
   "source": [
    "n_disorder_traits_with_medgen / n_disorder_traits"
   ]
  },
  {
   "cell_type": "markdown",
   "id": "3121fbd7-bdbf-4b97-8087-b11bafbdce53",
   "metadata": {},
   "source": [
    "12,006 / 122,432 = 9.8% of these traits have MedGen terms, not clear how meaningful they are. Two examples picked at random:\n",
    "* [TCTN2-related disorder](https://www.ncbi.nlm.nih.gov/medgen/?term=TCTN2-related+disorder)\n",
    "* [ZMPSTE24-related disorder](https://www.ncbi.nlm.nih.gov/medgen/?term=ZMPSTE24-related+disorder)\n"
   ]
  },
  {
   "cell_type": "code",
   "execution_count": 48,
   "id": "79572375-bda4-4512-9525-31991369e665",
   "metadata": {
    "tags": []
   },
   "outputs": [],
   "source": [
    "from cmat.trait_mapping.ols import get_uri_from_exact_match"
   ]
  },
  {
   "cell_type": "code",
   "execution_count": 49,
   "id": "78dbab40-5e2b-448b-9eaf-9b6bb68ce941",
   "metadata": {
    "tags": []
   },
   "outputs": [],
   "source": [
    "logging.getLogger(\"cmat.trait_mapping\").setLevel(logging.ERROR)"
   ]
  },
  {
   "cell_type": "code",
   "execution_count": 51,
   "id": "ae390a3e-b38e-49f5-885e-f1804a7b5f0c",
   "metadata": {
    "tags": []
   },
   "outputs": [],
   "source": [
    "# Check coverage of EFO terms via OLS\n",
    "\n",
    "n_disorder_traits_with_efo = 0\n",
    "trait_to_efo = {}\n",
    "\n",
    "for record in disorder_dataset:\n",
    "    for trait in record.traits_with_valid_names:\n",
    "        if re.match(GENE_RELATED_DISORDER, trait.preferred_or_other_valid_name):\n",
    "            efo_uri = get_uri_from_exact_match(trait.preferred_or_other_valid_name.lower(), 'EFO')\n",
    "            if efo_uri:\n",
    "                n_disorder_traits_with_efo += 1\n",
    "                trait_to_efo[trait.preferred_or_other_valid_name] = efo_uri"
   ]
  },
  {
   "cell_type": "code",
   "execution_count": 52,
   "id": "96eed057-4ff9-44a2-816c-eadb6e0607c0",
   "metadata": {},
   "outputs": [
    {
     "data": {
      "text/plain": [
       "599"
      ]
     },
     "execution_count": 52,
     "metadata": {},
     "output_type": "execute_result"
    }
   ],
   "source": [
    "n_disorder_traits_with_efo"
   ]
  },
  {
   "cell_type": "code",
   "execution_count": 54,
   "id": "171237e7-5481-4e61-ba09-41dd51ca056d",
   "metadata": {
    "tags": []
   },
   "outputs": [
    {
     "data": {
      "text/plain": [
       "{'CBL-related disorder': 'http://purl.obolibrary.org/obo/MONDO_0013308',\n",
       " 'CLCN4-related disorder': 'http://www.ebi.ac.uk/efo/EFO_0009066',\n",
       " 'ATP6AP2-related disorder': 'http://purl.obolibrary.org/obo/MONDO_0100146',\n",
       " 'STAG1-related disorder': 'http://www.ebi.ac.uk/efo/EFO_0009078',\n",
       " 'COL4A1-related disorder': 'http://purl.obolibrary.org/obo/MONDO_0800461',\n",
       " 'DKC1-related disorder': 'http://purl.obolibrary.org/obo/MONDO_0100152',\n",
       " 'CTSC-related disorder': 'http://purl.obolibrary.org/obo/MONDO_0800465'}"
      ]
     },
     "execution_count": 54,
     "metadata": {},
     "output_type": "execute_result"
    }
   ],
   "source": [
    "trait_to_efo"
   ]
  },
  {
   "cell_type": "code",
   "execution_count": 56,
   "id": "604f46ae-5b7c-469e-8445-1c4a02819622",
   "metadata": {
    "tags": []
   },
   "outputs": [],
   "source": [
    "# Just get the complete set of names\n",
    "unique_names = set()\n",
    "for record in disorder_dataset:\n",
    "    for trait in record.traits_with_valid_names:\n",
    "        if re.match(GENE_RELATED_DISORDER, trait.preferred_or_other_valid_name):\n",
    "            unique_names.add(trait.preferred_or_other_valid_name)"
   ]
  },
  {
   "cell_type": "code",
   "execution_count": 57,
   "id": "0e713041-6bc0-46bf-9bf8-7a91415ef126",
   "metadata": {
    "tags": []
   },
   "outputs": [
    {
     "data": {
      "text/plain": [
       "5788"
      ]
     },
     "execution_count": 57,
     "metadata": {},
     "output_type": "execute_result"
    }
   ],
   "source": [
    "# Compare 5745-18=5727 within \"prevention\" set\n",
    "len(unique_names)"
   ]
  },
  {
   "cell_type": "code",
   "execution_count": 59,
   "id": "969082df-905f-42eb-86cc-b832083e6318",
   "metadata": {
    "tags": []
   },
   "outputs": [],
   "source": [
    "# Dump to file\n",
    "with open(os.path.join(data_dir, 'disorder-traits.csv'), 'w+') as outfile:\n",
    "    outfile.write('trait_name,medgen_id,efo_uri\\n')\n",
    "    for n in unique_names:\n",
    "        outfile.write(f'{n},{trait_to_medgen.get(n, \"\")},{trait_to_efo.get(n, \"\")}\\n')"
   ]
  },
  {
   "cell_type": "code",
   "execution_count": 60,
   "id": "ab235b28-8882-4d87-b9e3-3124fabfee6e",
   "metadata": {
    "tags": []
   },
   "outputs": [
    {
     "data": {
      "text/plain": [
       "0.013821700069108501"
      ]
     },
     "execution_count": 60,
     "metadata": {},
     "output_type": "execute_result"
    }
   ],
   "source": [
    "len(trait_to_medgen) / len(unique_names)"
   ]
  },
  {
   "cell_type": "code",
   "execution_count": 61,
   "id": "72c2f38e-199e-46ab-a271-30ba4f99a383",
   "metadata": {
    "tags": []
   },
   "outputs": [
    {
     "data": {
      "text/plain": [
       "0.0012093987560469939"
      ]
     },
     "execution_count": 61,
     "metadata": {},
     "output_type": "execute_result"
    }
   ],
   "source": [
    "len(trait_to_efo) / len(unique_names)"
   ]
  },
  {
   "cell_type": "code",
   "execution_count": 63,
   "id": "910d825b-a2ea-4f7d-8594-a22f31110229",
   "metadata": {
    "tags": []
   },
   "outputs": [
    {
     "name": "stdout",
     "output_type": "stream",
     "text": [
      "CBL-related disorder|http://purl.obolibrary.org/obo/MONDO_0013308\n",
      "CLCN4-related disorder|http://www.ebi.ac.uk/efo/EFO_0009066\n",
      "ATP6AP2-related disorder|http://purl.obolibrary.org/obo/MONDO_0100146\n",
      "STAG1-related disorder|http://www.ebi.ac.uk/efo/EFO_0009078\n",
      "COL4A1-related disorder|http://purl.obolibrary.org/obo/MONDO_0800461\n",
      "DKC1-related disorder|http://purl.obolibrary.org/obo/MONDO_0100152\n",
      "CTSC-related disorder|http://purl.obolibrary.org/obo/MONDO_0800465\n"
     ]
    }
   ],
   "source": [
    "# For a markdown table...\n",
    "for t in trait_to_efo:\n",
    "    print(f'{t}|{trait_to_efo[t]}')"
   ]
  },
  {
   "cell_type": "markdown",
   "id": "2b25cb74-3e4d-43b8-a070-231f2c479320",
   "metadata": {},
   "source": [
    "### Part 2\n",
    "\n",
    "Check coverage of variants associated with gene-related disorder terms - are they covered under other terms as well?"
   ]
  },
  {
   "cell_type": "code",
   "execution_count": 9,
   "id": "ea87e4bc-3a9d-4d63-a3ee-43530e13aa7c",
   "metadata": {
    "tags": []
   },
   "outputs": [],
   "source": [
    "# 1. Pull VCVs of measures in the disorder set\n",
    "#    (Should we use another variant identifier, e.g. chr_pos_ref_alt?)\n",
    "disorder_vcvs = set()\n",
    "\n",
    "for record in disorder_dataset:\n",
    "    if record.measure:\n",
    "        disorder_vcvs.add(record.vcv)"
   ]
  },
  {
   "cell_type": "code",
   "execution_count": 11,
   "id": "90025014-a2f2-4682-8364-77becdb3d740",
   "metadata": {
    "tags": []
   },
   "outputs": [
    {
     "data": {
      "text/plain": [
       "122355"
      ]
     },
     "execution_count": 11,
     "metadata": {},
     "output_type": "execute_result"
    }
   ],
   "source": [
    "len(disorder_vcvs)"
   ]
  },
  {
   "cell_type": "code",
   "execution_count": 10,
   "id": "e8feb407-e2ff-4a14-b529-0299ecbdcf6b",
   "metadata": {
    "tags": []
   },
   "outputs": [],
   "source": [
    "full_dataset = ClinVarDataset(full_clinvar_xml)"
   ]
  },
  {
   "cell_type": "code",
   "execution_count": 12,
   "id": "c253346d-0b80-430e-b31c-a3ea692398c6",
   "metadata": {
    "tags": []
   },
   "outputs": [],
   "source": [
    "related_disorder_vcv_xml = os.path.join(data_dir, 'disorder-vcv-records.xml.gz')"
   ]
  },
  {
   "cell_type": "code",
   "execution_count": 13,
   "id": "f50d338b-4619-4fec-a02d-9d057442cefc",
   "metadata": {
    "tags": []
   },
   "outputs": [],
   "source": [
    "from collections import defaultdict"
   ]
  },
  {
   "cell_type": "code",
   "execution_count": 31,
   "id": "16d55da7-c2d4-4aba-9920-911dbea71cdb",
   "metadata": {
    "tags": []
   },
   "outputs": [
    {
     "name": "stderr",
     "output_type": "stream",
     "text": [
      "INFO:filter_clinvar_xml:Records written: 213830\n"
     ]
    }
   ],
   "source": [
    "# 2. Go through full set and pull terms/records associated with those VCVs\n",
    "disorder_vcv_trait_names = defaultdict(set)\n",
    "\n",
    "\n",
    "# NB. filter function with side effects!\n",
    "def has_disorder_vcv(x: ClinVarRecord):\n",
    "    if x.traits_with_valid_names and x.measure and x.vcv in disorder_vcvs:\n",
    "        disorder_vcv_trait_names[x.vcv] |= {t.preferred_or_other_valid_name.lower() for t in x.traits_with_valid_names}\n",
    "        return True\n",
    "    return False\n",
    "\n",
    "\n",
    "filter_xml(\n",
    "    input_xml=full_clinvar_xml,\n",
    "    output_xml=related_disorder_vcv_xml,\n",
    "    filter_fct=has_disorder_vcv,\n",
    "    max_num=None,\n",
    ")\n"
   ]
  },
  {
   "cell_type": "code",
   "execution_count": 32,
   "id": "dee0169f-c697-4ab6-be94-0c6fd73f0add",
   "metadata": {
    "tags": []
   },
   "outputs": [
    {
     "data": {
      "text/plain": [
       "122355"
      ]
     },
     "execution_count": 32,
     "metadata": {},
     "output_type": "execute_result"
    }
   ],
   "source": [
    "len(disorder_vcv_trait_names)"
   ]
  },
  {
   "cell_type": "code",
   "execution_count": 33,
   "id": "b90b9c0b-18f4-4782-974c-6243d187d829",
   "metadata": {
    "tags": []
   },
   "outputs": [],
   "source": [
    "mult_traits = {\n",
    "    k: v for k, v in disorder_vcv_trait_names.items() if len(v) > 1\n",
    "}\n",
    "sing_trait = {\n",
    "    k: v for k, v in disorder_vcv_trait_names.items() if len(v) == 1\n",
    "}"
   ]
  },
  {
   "cell_type": "code",
   "execution_count": 34,
   "id": "984b18db-7f88-4353-96e8-1c5ba45dc791",
   "metadata": {
    "tags": []
   },
   "outputs": [
    {
     "data": {
      "text/plain": [
       "49241"
      ]
     },
     "execution_count": 34,
     "metadata": {},
     "output_type": "execute_result"
    }
   ],
   "source": [
    "len(mult_traits)"
   ]
  },
  {
   "cell_type": "code",
   "execution_count": 35,
   "id": "c0fd8488-a122-46f2-a22d-123a01bb858b",
   "metadata": {
    "tags": []
   },
   "outputs": [
    {
     "data": {
      "text/plain": [
       "73114"
      ]
     },
     "execution_count": 35,
     "metadata": {},
     "output_type": "execute_result"
    }
   ],
   "source": [
    "len(sing_trait)"
   ]
  },
  {
   "cell_type": "code",
   "execution_count": 39,
   "id": "767a6853-6599-4964-b8ff-4a267b2eb1eb",
   "metadata": {
    "tags": []
   },
   "outputs": [],
   "source": [
    "trait_to_efo = {'CBL-related disorder': 'http://purl.obolibrary.org/obo/MONDO_0013308',\n",
    " 'CLCN4-related disorder': 'http://www.ebi.ac.uk/efo/EFO_0009066',\n",
    " 'ATP6AP2-related disorder': 'http://purl.obolibrary.org/obo/MONDO_0100146',\n",
    " 'STAG1-related disorder': 'http://www.ebi.ac.uk/efo/EFO_0009078',\n",
    " 'COL4A1-related disorder': 'http://purl.obolibrary.org/obo/MONDO_0800461',\n",
    " 'DKC1-related disorder': 'http://purl.obolibrary.org/obo/MONDO_0100152',\n",
    " 'CTSC-related disorder': 'http://purl.obolibrary.org/obo/MONDO_0800465'}"
   ]
  },
  {
   "cell_type": "code",
   "execution_count": 40,
   "id": "e6abc8bb-694e-4f14-9255-4561365b811e",
   "metadata": {
    "tags": []
   },
   "outputs": [],
   "source": [
    "traits_with_efo = {t.lower() for t in trait_to_efo}"
   ]
  },
  {
   "cell_type": "code",
   "execution_count": 53,
   "id": "f1c0f767-dda8-4580-b5f1-25d52ba482a1",
   "metadata": {
    "tags": []
   },
   "outputs": [
    {
     "name": "stdout",
     "output_type": "stream",
     "text": [
      "Total variants associated with gene-related disorder traits: 122355\n",
      "\tNumber of these with multiple traits: 49241\n",
      "\t\tNumber of these including a currently EFO-mapped one: 236\n",
      "\tNumber of these with single trait: 73114\n",
      "\t\tNumber of these including a currently EFO-mapped one: 350\n"
     ]
    }
   ],
   "source": [
    "n_mult_trait_vars_with_efo_trait = 0\n",
    "n_sing_trait_vars_with_efo_trait = 0\n",
    "to_output = {}\n",
    "\n",
    "for vcv, traits in mult_traits.items():\n",
    "    if len(traits & traits_with_efo) > 0:\n",
    "        n_mult_trait_vars_with_efo_trait += 1\n",
    "        to_output[vcv] = traits\n",
    "        \n",
    "for vcv, traits in sing_trait.items():\n",
    "    if len(traits & traits_with_efo) > 0:\n",
    "        n_sing_trait_vars_with_efo_trait += 1\n",
    "        to_output[vcv] = traits\n",
    "\n",
    "print('Total variants associated with gene-related disorder traits:', len(disorder_vcv_trait_names))\n",
    "print('\\tNumber of these with multiple traits:', len(mult_traits))\n",
    "print('\\t\\tNumber of these including a currently EFO-mapped one:', n_mult_trait_vars_with_efo_trait)\n",
    "print('\\tNumber of these with single trait:', len(sing_trait))\n",
    "print('\\t\\tNumber of these including a currently EFO-mapped one:', n_sing_trait_vars_with_efo_trait)"
   ]
  },
  {
   "cell_type": "code",
   "execution_count": 49,
   "id": "43e42d2e-e1b6-4126-b3a8-15ea1308c26e",
   "metadata": {
    "tags": []
   },
   "outputs": [
    {
     "data": {
      "text/plain": [
       "0.40244370887989867"
      ]
     },
     "execution_count": 49,
     "metadata": {},
     "output_type": "execute_result"
    }
   ],
   "source": [
    "49241/122355"
   ]
  },
  {
   "cell_type": "code",
   "execution_count": 50,
   "id": "a407c34f-4d4d-4666-96d4-2234330d98b5",
   "metadata": {
    "tags": []
   },
   "outputs": [
    {
     "data": {
      "text/plain": [
       "0.5975562911201013"
      ]
     },
     "execution_count": 50,
     "metadata": {},
     "output_type": "execute_result"
    }
   ],
   "source": [
    "73114/122355"
   ]
  },
  {
   "cell_type": "code",
   "execution_count": 54,
   "id": "7911848f-8461-4b8d-bccf-52735311ba85",
   "metadata": {
    "tags": []
   },
   "outputs": [],
   "source": [
    "# dump vcv-to-traits mapping (containing efo mapped traits only\n",
    "with open(os.path.join(data_dir, 'vcv-to-efo-traits.tsv'), 'w+') as outfile:\n",
    "    outfile.write('vcv\\ttrait_names\\n')\n",
    "    for vcv, traits in to_output.items():\n",
    "        outfile.write(f'{vcv}\\t{\",\".join(traits)}\\n')"
   ]
  },
  {
   "cell_type": "code",
   "execution_count": null,
   "id": "1a71ca41-d0f1-43eb-bcb7-4b3f1fff73cf",
   "metadata": {},
   "outputs": [],
   "source": []
  },
  {
   "cell_type": "markdown",
   "id": "220c9f73-c046-4842-9bae-6d483acc77eb",
   "metadata": {},
   "source": [
    "## Revisiting in 2025\n",
    "\n",
    "Further investigation when terms reappeared in January 2025."
   ]
  },
  {
   "cell_type": "code",
   "execution_count": 5,
   "id": "8c51a9d7-2071-410c-ac78-ba9d6def689d",
   "metadata": {},
   "outputs": [],
   "source": [
    "import sys\n",
    "sys.path.append('..')"
   ]
  },
  {
   "cell_type": "code",
   "execution_count": 6,
   "id": "fcf4739d-a703-4b6e-be74-88a519fa248c",
   "metadata": {},
   "outputs": [],
   "source": [
    "from filter_clinvar_xml import pprint"
   ]
  },
  {
   "cell_type": "code",
   "execution_count": 6,
   "id": "d2711ff6-0864-4a87-8cdf-7c8cc97f8a98",
   "metadata": {},
   "outputs": [],
   "source": [
    "from cmat.clinvar_xml_io import *\n",
    "from cmat.clinvar_xml_io.filtering import submission_names_to_exclude\n",
    "from collections import Counter"
   ]
  },
  {
   "cell_type": "code",
   "execution_count": 7,
   "id": "a4bc0f9d-a225-4d7b-bed4-abd835bb713f",
   "metadata": {},
   "outputs": [],
   "source": [
    "previous_set = ClinVarDataset('/home/ashen/projects/opentargets/gene-condition/disorder-records.xml.gz')\n",
    "current_set = ClinVarDataset('/home/ashen/projects/opentargets/gene-condition/2025_disorder-records.xml.gz')"
   ]
  },
  {
   "cell_type": "code",
   "execution_count": 9,
   "id": "8ae2f7ba-e284-4d61-b339-240fc7fbda79",
   "metadata": {},
   "outputs": [],
   "source": [
    "def print_sub_counts(dataset):\n",
    "    only_excluded_subs = 0\n",
    "    excluded_and_others = 0\n",
    "    only_other_subs = 0\n",
    "    submission_names = Counter()\n",
    "    \n",
    "    for cvs in dataset.iter_cvs():\n",
    "        has_excluded = False\n",
    "        has_others = False\n",
    "        for scv in cvs.scvs:\n",
    "            submission_names[scv.submission_name] += 1\n",
    "            if scv.submission_name in submission_names_to_exclude:\n",
    "                has_excluded = True\n",
    "            if scv.submission_name not in submission_names_to_exclude:\n",
    "                has_others = True\n",
    "        if has_excluded and not has_others:\n",
    "            only_excluded_subs += 1\n",
    "        if has_excluded and has_others:\n",
    "            excluded_and_others += 1\n",
    "        if not has_excluded and has_others:\n",
    "            only_other_subs += 1\n",
    "\n",
    "    print('Only supported by excluded submission:', only_excluded_subs)\n",
    "    print('Supported by excluded and other submissions:', excluded_and_others)\n",
    "    print('Only supported by other submissions:', only_other_subs)\n",
    "    return submission_names"
   ]
  },
  {
   "cell_type": "code",
   "execution_count": 10,
   "id": "2a947486-23d3-46b2-8b49-41c5bd3556da",
   "metadata": {},
   "outputs": [
    {
     "name": "stdout",
     "output_type": "stream",
     "text": [
      "Only supported by excluded submission: 92629\n",
      "Supported by excluded and other submissions: 351\n",
      "Only supported by other submissions: 29452\n"
     ]
    }
   ],
   "source": [
    "previous_sub_names = print_sub_counts(previous_set)"
   ]
  },
  {
   "cell_type": "code",
   "execution_count": 11,
   "id": "9781b854-8370-4719-a743-7a5c17613ff1",
   "metadata": {},
   "outputs": [
    {
     "name": "stdout",
     "output_type": "stream",
     "text": [
      "Only supported by excluded submission: 428\n",
      "Supported by excluded and other submissions: 0\n",
      "Only supported by other submissions: 154135\n"
     ]
    }
   ],
   "source": [
    "current_sub_names = print_sub_counts(current_set)"
   ]
  },
  {
   "cell_type": "code",
   "execution_count": 12,
   "id": "b92ff2b4-3268-454d-a89f-8194ae3f6958",
   "metadata": {},
   "outputs": [
    {
     "data": {
      "text/plain": [
       "['SUB14299258']"
      ]
     },
     "execution_count": 12,
     "metadata": {},
     "output_type": "execute_result"
    }
   ],
   "source": [
    "submission_names_to_exclude"
   ]
  },
  {
   "cell_type": "code",
   "execution_count": 13,
   "id": "50be840a-9720-45d7-95ae-3235dcfeb01f",
   "metadata": {},
   "outputs": [],
   "source": [
    "excluded_submission = submission_names_to_exclude[0]"
   ]
  },
  {
   "cell_type": "code",
   "execution_count": 14,
   "id": "07506a5c-53a3-427e-b493-74bdc2114a47",
   "metadata": {},
   "outputs": [
    {
     "data": {
      "text/plain": [
       "[('SUB14299258', 92980),\n",
       " ('SUB13915440', 17094),\n",
       " (None, 6752),\n",
       " ('SUB6641900', 950),\n",
       " ('SUB10993736', 664),\n",
       " ('SUB14200314', 642),\n",
       " ('SUB14200283', 596),\n",
       " ('SUB14200279', 436),\n",
       " ('SUB14200269', 411),\n",
       " ('SUB5118208', 407)]"
      ]
     },
     "execution_count": 14,
     "metadata": {},
     "output_type": "execute_result"
    }
   ],
   "source": [
    "previous_sub_names.most_common(10)"
   ]
  },
  {
   "cell_type": "code",
   "execution_count": 15,
   "id": "af96f9c2-2979-4c06-beff-e9f365becf0d",
   "metadata": {},
   "outputs": [
    {
     "data": {
      "text/plain": [
       "[(None, 101132),\n",
       " ('SUB13915440', 15410),\n",
       " ('SUB14767636', 5591),\n",
       " ('SUB14767635', 3362),\n",
       " ('SUB14767656', 2997),\n",
       " ('SUB14767649', 2807),\n",
       " ('SUB14767648', 2765),\n",
       " ('SUB14767647', 2520),\n",
       " ('SUB14767644', 2386),\n",
       " ('SUB14767646', 2203)]"
      ]
     },
     "execution_count": 15,
     "metadata": {},
     "output_type": "execute_result"
    }
   ],
   "source": [
    "current_sub_names.most_common(10)"
   ]
  },
  {
   "cell_type": "markdown",
   "id": "a679c4ba-deeb-41ee-b691-48492889ca93",
   "metadata": {},
   "source": [
    "No single submission name dominates as it did in 2024, in fact the largest group is those missing submission name entirely - maybe indicates this isn't as reliable an attribute as we thought."
   ]
  },
  {
   "cell_type": "code",
   "execution_count": 16,
   "id": "0df1608d-0651-4299-86db-571a03ea5bd8",
   "metadata": {},
   "outputs": [],
   "source": [
    "def count_submitters(dataset):\n",
    "    submitters = Counter()\n",
    "    for cvs in dataset.iter_cvs():\n",
    "        for scv in cvs.scvs:\n",
    "            submitters[scv.submitter_id] += 1\n",
    "    return submitters"
   ]
  },
  {
   "cell_type": "code",
   "execution_count": 17,
   "id": "5222766a-1ca8-4b9c-a75a-8832a330b820",
   "metadata": {},
   "outputs": [],
   "source": [
    "previous_submitters = count_submitters(previous_set)"
   ]
  },
  {
   "cell_type": "code",
   "execution_count": 18,
   "id": "a5b960dd-23b7-4b27-970f-38d0b4e4ad5f",
   "metadata": {},
   "outputs": [],
   "source": [
    "current_submitters = count_submitters(current_set)"
   ]
  },
  {
   "cell_type": "code",
   "execution_count": 8,
   "id": "76565243-caf7-4bc1-ac25-0c6ae2942578",
   "metadata": {},
   "outputs": [],
   "source": [
    "prevention_id = '239772'"
   ]
  },
  {
   "cell_type": "code",
   "execution_count": 20,
   "id": "1950a1e3-5957-4f64-93d4-304f012c39dd",
   "metadata": {},
   "outputs": [
    {
     "data": {
      "text/plain": [
       "[('239772', 112072),\n",
       " ('500031', 7003),\n",
       " ('504895', 1652),\n",
       " ('500034', 689),\n",
       " ('506081', 287),\n",
       " ('500026', 245),\n",
       " ('506185', 230),\n",
       " ('507119', 125),\n",
       " ('1019', 113),\n",
       " ('505999', 100)]"
      ]
     },
     "execution_count": 20,
     "metadata": {},
     "output_type": "execute_result"
    }
   ],
   "source": [
    "previous_submitters.most_common(10)"
   ]
  },
  {
   "cell_type": "code",
   "execution_count": 21,
   "id": "44e41143-2775-4f61-95ce-7ca9c4efc00d",
   "metadata": {},
   "outputs": [
    {
     "data": {
      "text/plain": [
       "[('239772', 144283),\n",
       " ('500031', 7003),\n",
       " ('504895', 1649),\n",
       " ('500034', 689),\n",
       " ('500026', 309),\n",
       " ('506081', 287),\n",
       " ('506185', 230),\n",
       " ('1019', 135),\n",
       " ('507119', 125),\n",
       " ('505999', 119)]"
      ]
     },
     "execution_count": 21,
     "metadata": {},
     "output_type": "execute_result"
    }
   ],
   "source": [
    "current_submitters.most_common(10)"
   ]
  },
  {
   "cell_type": "markdown",
   "id": "02702a9c-384e-4f22-b2c3-40d92706ab8d",
   "metadata": {},
   "source": [
    "The same submitter is by far the dominant one across this subset of the data in both 2024 and 2025."
   ]
  },
  {
   "cell_type": "code",
   "execution_count": 4,
   "id": "4909952f-f592-4c76-9523-57c0d04bd5c4",
   "metadata": {},
   "outputs": [],
   "source": [
    "previous_rcvs = {record.accession for record in previous_set}"
   ]
  },
  {
   "cell_type": "code",
   "execution_count": 5,
   "id": "b15b7d32-db06-4d2f-9492-b27a71ed2dfa",
   "metadata": {},
   "outputs": [],
   "source": [
    "current_rcvs = {record.accession for record in current_set}"
   ]
  },
  {
   "cell_type": "code",
   "execution_count": 40,
   "id": "cbe64152-247a-4d85-adf7-d2288d5a50b1",
   "metadata": {},
   "outputs": [
    {
     "data": {
      "text/plain": [
       "122432"
      ]
     },
     "execution_count": 40,
     "metadata": {},
     "output_type": "execute_result"
    }
   ],
   "source": [
    "len(previous_rcvs)"
   ]
  },
  {
   "cell_type": "code",
   "execution_count": 41,
   "id": "15b5f46a-908b-4031-9b90-e7e6505fa70c",
   "metadata": {},
   "outputs": [
    {
     "data": {
      "text/plain": [
       "154563"
      ]
     },
     "execution_count": 41,
     "metadata": {},
     "output_type": "execute_result"
    }
   ],
   "source": [
    "len(current_rcvs)"
   ]
  },
  {
   "cell_type": "code",
   "execution_count": 42,
   "id": "f03fe21b-2572-4163-9bee-0d63950b29d9",
   "metadata": {},
   "outputs": [
    {
     "data": {
      "text/plain": [
       "35"
      ]
     },
     "execution_count": 42,
     "metadata": {},
     "output_type": "execute_result"
    }
   ],
   "source": [
    "len(previous_rcvs - current_rcvs)"
   ]
  },
  {
   "cell_type": "code",
   "execution_count": 43,
   "id": "d57aead0-cbe0-44fa-bd9c-709830b2b51f",
   "metadata": {},
   "outputs": [
    {
     "data": {
      "text/plain": [
       "32166"
      ]
     },
     "execution_count": 43,
     "metadata": {},
     "output_type": "execute_result"
    }
   ],
   "source": [
    "len(current_rcvs - previous_rcvs)"
   ]
  },
  {
   "cell_type": "code",
   "execution_count": 23,
   "id": "4833419d-8b51-4ede-9308-49a26d3d8df8",
   "metadata": {},
   "outputs": [
    {
     "name": "stdout",
     "output_type": "stream",
     "text": [
      "Found RCV to use: RCV003940464\n",
      "Found RCV to use: RCV004532160\n",
      "Found RCV to use: RCV003919663\n",
      "Found RCV to use: RCV003955379\n",
      "Found RCV to use: RCV004534523\n"
     ]
    }
   ],
   "source": [
    "paired_rcvs = []\n",
    "\n",
    "# Find RCVs present in both sets, submitted by Prevention, initially part of the excluded submission and now not\n",
    "for rcv in previous_rcvs & current_rcvs:\n",
    "    good_rcv = False\n",
    "    for previous_cvs in previous_set.iter_cvs():\n",
    "        if previous_cvs.rcv.accession == rcv:\n",
    "            good_rcv = (prevention_id in {scv.submitter_id for scv in previous_cvs.scvs}\n",
    "                        and excluded_submission in {scv.submission_name for scv in previous_cvs.scvs})\n",
    "            break\n",
    "    if not good_rcv:\n",
    "        continue\n",
    "    for current_cvs in current_set.iter_cvs():\n",
    "        if current_cvs.rcv.accession == rcv:\n",
    "            good_rcv = good_rcv and (prevention_id in {scv.submitter_id for scv in current_cvs.scvs}\n",
    "                                     and excluded_submission not in {scv.submission_name for scv in current_cvs.scvs})\n",
    "            break\n",
    "    if good_rcv:\n",
    "        print(\"Found RCV to use:\", rcv)\n",
    "        paired_rcvs.append((previous_cvs, current_cvs))\n",
    "        if len(paired_rcvs) >= 5:\n",
    "            break"
   ]
  },
  {
   "cell_type": "code",
   "execution_count": 24,
   "id": "0e836de2-012d-47b8-9ba7-d33646fad0c0",
   "metadata": {
    "scrolled": true
   },
   "outputs": [
    {
     "name": "stdout",
     "output_type": "stream",
     "text": [
      "<ClinVarSet ID=\"207155321\">\n",
      "  <RecordStatus>current</RecordStatus>\n",
      "  <Title>NM_021871.4(FGA):c.804G&gt;A (p.Glu268=) AND FGA-related disorder</Title>\n",
      "  <ReferenceClinVarAssertion ID=\"9766709\" DateLastUpdated=\"2024-06-29\" DateCreated=\"2024-05-12\">\n",
      "    <ClinVarAccession Acc=\"RCV004534523\" Version=\"1\" Type=\"RCV\" DateUpdated=\"2024-06-29\" DateCreated=\"2024-05-12\" />\n",
      "    <RecordStatus>current</RecordStatus>\n",
      "    <Classifications>\n",
      "      <GermlineClassification>\n",
      "        <ReviewStatus>criteria provided, single submitter</ReviewStatus>\n",
      "        <Description DateLastEvaluated=\"2023-12-20\" SubmissionCount=\"1\">Likely benign</Description>\n",
      "      </GermlineClassification>\n",
      "    </Classifications>\n",
      "    <Assertion Type=\"variation to disease\" />\n",
      "    <ObservedIn>\n",
      "      <Sample>\n",
      "        <Origin>germline</Origin>\n",
      "        <Species TaxonomyId=\"9606\">human</Species>\n",
      "        <AffectedStatus>unknown</AffectedStatus>\n",
      "      </Sample>\n",
      "      <Method>\n",
      "        <MethodType>clinical testing</MethodType>\n",
      "      </Method>\n",
      "      <ObservedData ID=\"157120120\">\n",
      "        <Attribute Type=\"Description\">not provided</Attribute>\n",
      "      </ObservedData>\n",
      "    </ObservedIn>\n",
      "    <MeasureSet Type=\"Variant\" ID=\"3031849\" Acc=\"VCV003031849\" Version=\"1\">\n",
      "      <Measure Type=\"single nucleotide variant\" ID=\"3201681\">\n",
      "        <Name>\n",
      "          <ElementValue Type=\"Preferred\">NM_021871.4(FGA):c.804G&gt;A (p.Glu268=)</ElementValue>\n",
      "        </Name>\n",
      "        <CanonicalSPDI>NC_000004.12:154586624:C:T</CanonicalSPDI>\n",
      "        <AttributeSet>\n",
      "          <Attribute Accession=\"LRG_557t1\" Type=\"HGVS, coding, LRG\">LRG_557t1:c.804G&gt;A</Attribute>\n",
      "        </AttributeSet>\n",
      "        <AttributeSet>\n",
      "          <Attribute Accession=\"LRG_557t2\" Type=\"HGVS, coding, LRG\">LRG_557t2:c.804G&gt;A</Attribute>\n",
      "        </AttributeSet>\n",
      "        <AttributeSet>\n",
      "          <Attribute Accession=\"NM_000508\" Version=\"5\" Change=\"c.804G&gt;A\" Type=\"HGVS, coding, RefSeq\">NM_000508.5:c.804G&gt;A</Attribute>\n",
      "        </AttributeSet>\n",
      "        <AttributeSet>\n",
      "          <Attribute Accession=\"NM_021871\" Version=\"4\" Change=\"c.804G&gt;A\" Type=\"HGVS, coding, RefSeq\" MANESelect=\"true\">NM_021871.4:c.804G&gt;A</Attribute>\n",
      "        </AttributeSet>\n",
      "        <AttributeSet>\n",
      "          <Attribute Accession=\"LRG_557\" Type=\"HGVS, genomic, LRG\">LRG_557:g.9121G&gt;A</Attribute>\n",
      "        </AttributeSet>\n",
      "        <AttributeSet>\n",
      "          <Attribute Accession=\"NG_008832\" Version=\"1\" Change=\"g.9121G&gt;A\" Type=\"HGVS, genomic, RefSeqGene\">NG_008832.1:g.9121G&gt;A</Attribute>\n",
      "        </AttributeSet>\n",
      "        <AttributeSet>\n",
      "          <Attribute Accession=\"NC_000004\" Version=\"12\" Change=\"g.154586625C&gt;T\" Type=\"HGVS, genomic, top level\" integerValue=\"38\">NC_000004.12:g.154586625C&gt;T</Attribute>\n",
      "        </AttributeSet>\n",
      "        <AttributeSet>\n",
      "          <Attribute Accession=\"NC_000004\" Version=\"11\" Change=\"g.155507777C&gt;T\" Type=\"HGVS, genomic, top level, previous\" integerValue=\"37\">NC_000004.11:g.155507777C&gt;T</Attribute>\n",
      "        </AttributeSet>\n",
      "        <AttributeSet>\n",
      "          <Attribute Accession=\"NM_000508\" Version=\"3\" Change=\"c.804G&gt;A\" Type=\"HGVS, previous\">NM_000508.3:c.804G&gt;A</Attribute>\n",
      "        </AttributeSet>\n",
      "        <AttributeSet>\n",
      "          <Attribute Accession=\"NM_000508\" Version=\"4\" Change=\"c.804G&gt;A\" Type=\"HGVS, previous\">NM_000508.4:c.804G&gt;A</Attribute>\n",
      "        </AttributeSet>\n",
      "        <AttributeSet>\n",
      "          <Attribute Accession=\"NM_021871\" Version=\"2\" Change=\"c.804G&gt;A\" Type=\"HGVS, previous\">NM_021871.2:c.804G&gt;A</Attribute>\n",
      "        </AttributeSet>\n",
      "        <AttributeSet>\n",
      "          <Attribute Type=\"HGVS, protein\" />\n",
      "        </AttributeSet>\n",
      "        <AttributeSet>\n",
      "          <Attribute Accession=\"LRG_557p1\" Change=\"p.Glu268=\" Type=\"HGVS, protein\">LRG_557p1:p.Glu268=</Attribute>\n",
      "        </AttributeSet>\n",
      "        <AttributeSet>\n",
      "          <Attribute Accession=\"LRG_557p2\" Change=\"p.Glu268=\" Type=\"HGVS, protein\">LRG_557p2:p.Glu268=</Attribute>\n",
      "        </AttributeSet>\n",
      "        <AttributeSet>\n",
      "          <Attribute Accession=\"NP_000499\" Version=\"1\" Change=\"p.Glu268=\" Type=\"HGVS, protein, RefSeq\">NP_000499.1:p.Glu268=</Attribute>\n",
      "        </AttributeSet>\n",
      "        <AttributeSet>\n",
      "          <Attribute Accession=\"NP_000499\" Version=\"1\" Change=\"p.Glu268=\" Type=\"HGVS, protein, RefSeq\">NP_000499.1:p.Glu268=</Attribute>\n",
      "        </AttributeSet>\n",
      "        <AttributeSet>\n",
      "          <Attribute Accession=\"NP_068657\" Version=\"1\" Change=\"p.Glu268=\" Type=\"HGVS, protein, RefSeq\">NP_068657.1:p.Glu268=</Attribute>\n",
      "        </AttributeSet>\n",
      "        <AttributeSet>\n",
      "          <Attribute Accession=\"NP_068657\" Version=\"1\" Change=\"p.Glu268=\" Type=\"HGVS, protein, RefSeq\">NP_068657.1:p.Glu268=</Attribute>\n",
      "        </AttributeSet>\n",
      "        <AttributeSet>\n",
      "          <Attribute Type=\"MolecularConsequence\">synonymous variant</Attribute>\n",
      "          <XRef ID=\"SO:0001819\" DB=\"Sequence Ontology\" />\n",
      "          <XRef ID=\"NM_000508.5:c.804G&gt;A\" DB=\"RefSeq\" />\n",
      "        </AttributeSet>\n",
      "        <AttributeSet>\n",
      "          <Attribute Type=\"MolecularConsequence\">synonymous variant</Attribute>\n",
      "          <XRef ID=\"SO:0001819\" DB=\"Sequence Ontology\" />\n",
      "          <XRef ID=\"NM_021871.4:c.804G&gt;A\" DB=\"RefSeq\" />\n",
      "        </AttributeSet>\n",
      "        <CytogeneticLocation>4q31.3</CytogeneticLocation>\n",
      "        <SequenceLocation Assembly=\"GRCh38\" AssemblyAccessionVersion=\"GCF_000001405.38\" AssemblyStatus=\"current\" Chr=\"4\" Accession=\"NC_000004.12\" start=\"154586625\" stop=\"154586625\" display_start=\"154586625\" display_stop=\"154586625\" variantLength=\"1\" positionVCF=\"154586625\" referenceAlleleVCF=\"C\" alternateAlleleVCF=\"T\" />\n",
      "        <SequenceLocation Assembly=\"GRCh37\" AssemblyAccessionVersion=\"GCF_000001405.25\" AssemblyStatus=\"previous\" Chr=\"4\" Accession=\"NC_000004.11\" start=\"155507777\" stop=\"155507777\" display_start=\"155507777\" display_stop=\"155507777\" variantLength=\"1\" positionVCF=\"155507777\" referenceAlleleVCF=\"C\" alternateAlleleVCF=\"T\" />\n",
      "        <MeasureRelationship Type=\"within single gene\">\n",
      "          <Name>\n",
      "            <ElementValue Type=\"Preferred\">fibrinogen alpha chain</ElementValue>\n",
      "          </Name>\n",
      "          <Symbol>\n",
      "            <ElementValue Type=\"Preferred\">FGA</ElementValue>\n",
      "          </Symbol>\n",
      "          <SequenceLocation Assembly=\"GRCh38\" AssemblyAccessionVersion=\"GCF_000001405.38\" AssemblyStatus=\"current\" Chr=\"4\" Accession=\"NC_000004.12\" start=\"154583126\" stop=\"154590742\" display_start=\"154583126\" display_stop=\"154590742\" Strand=\"-\" />\n",
      "          <SequenceLocation Assembly=\"GRCh37\" AssemblyAccessionVersion=\"GCF_000001405.25\" AssemblyStatus=\"previous\" Chr=\"4\" Accession=\"NC_000004.11\" start=\"155504279\" stop=\"155511896\" display_start=\"155504279\" display_stop=\"155511896\" variantLength=\"7618\" Strand=\"-\" />\n",
      "          <XRef ID=\"2243\" DB=\"Gene\" />\n",
      "          <XRef Type=\"MIM\" ID=\"134820\" DB=\"OMIM\" />\n",
      "          <XRef ID=\"HGNC:3661\" DB=\"HGNC\" />\n",
      "        </MeasureRelationship>\n",
      "      </Measure>\n",
      "      <Name>\n",
      "        <ElementValue Type=\"Preferred\">NM_021871.4(FGA):c.804G&gt;A (p.Glu268=)</ElementValue>\n",
      "      </Name>\n",
      "    </MeasureSet>\n",
      "    <TraitSet Type=\"Disease\" ID=\"47366\">\n",
      "      <Trait ID=\"41700\" Type=\"Disease\">\n",
      "        <Name>\n",
      "          <ElementValue Type=\"Preferred\">FGA-related disorder</ElementValue>\n",
      "        </Name>\n",
      "        <Name>\n",
      "          <ElementValue Type=\"Alternate\">FGA-Related Disorders</ElementValue>\n",
      "        </Name>\n",
      "        <Name>\n",
      "          <ElementValue Type=\"Alternate\">FGA-related condition</ElementValue>\n",
      "        </Name>\n",
      "      </Trait>\n",
      "    </TraitSet>\n",
      "  </ReferenceClinVarAssertion>\n",
      "  <ClinVarAssertion ID=\"8796584\" SubmissionName=\"SUB14299258\">\n",
      "    <ClinVarSubmissionID localKey=\"17281187|FGA-related condition\" submittedAssembly=\"GRCh37\" submitter=\"PreventionGenetics, part of Exact Sciences\" submitterDate=\"2024-03-08\" />\n",
      "    <ClinVarAccession Acc=\"SCV004714623\" Version=\"1\" Type=\"SCV\" OrgID=\"239772\" OrganizationCategory=\"laboratory\" OrgType=\"primary\" DateUpdated=\"2024-03-16\" DateCreated=\"2024-03-16\" />\n",
      "    <RecordStatus>current</RecordStatus>\n",
      "    <Classification DateLastEvaluated=\"2023-12-20\">\n",
      "      <ReviewStatus>criteria provided, single submitter</ReviewStatus>\n",
      "      <GermlineClassification>Likely benign</GermlineClassification>\n",
      "      <Comment>This variant is classified as likely benign based on ACMG/AMP sequence variant interpretation guidelines (Richards et al. 2015 PMID: 25741868, with internal and published modifications).</Comment>\n",
      "    </Classification>\n",
      "    <Assertion Type=\"variation to disease\" />\n",
      "    <ExternalID DB=\"PreventionGenetics, part of Exact Sciences\" ID=\"17281187\" />\n",
      "    <AttributeSet>\n",
      "      <Attribute Type=\"AssertionMethod\">ACMG Guidelines, 2015</Attribute>\n",
      "      <Citation>\n",
      "        <ID Source=\"PubMed\">25741868</ID>\n",
      "      </Citation>\n",
      "    </AttributeSet>\n",
      "    <ObservedIn>\n",
      "      <Sample>\n",
      "        <Origin>germline</Origin>\n",
      "        <Species TaxonomyId=\"9606\">human</Species>\n",
      "        <AffectedStatus>unknown</AffectedStatus>\n",
      "      </Sample>\n",
      "      <Method>\n",
      "        <MethodType>clinical testing</MethodType>\n",
      "      </Method>\n",
      "      <ObservedData>\n",
      "        <Attribute Type=\"Description\">not provided</Attribute>\n",
      "      </ObservedData>\n",
      "    </ObservedIn>\n",
      "    <MeasureSet Type=\"Variant\">\n",
      "      <Measure Type=\"Variation\">\n",
      "        <AttributeSet>\n",
      "          <Attribute Type=\"HGVS\">NM_000508.4:c.804G&gt;A</Attribute>\n",
      "        </AttributeSet>\n",
      "        <MeasureRelationship Type=\"variant in gene\">\n",
      "          <Symbol>\n",
      "            <ElementValue Type=\"Preferred\">FGA</ElementValue>\n",
      "          </Symbol>\n",
      "        </MeasureRelationship>\n",
      "      </Measure>\n",
      "    </MeasureSet>\n",
      "    <TraitSet Type=\"Disease\">\n",
      "      <Trait Type=\"Disease\">\n",
      "        <Name>\n",
      "          <ElementValue Type=\"Preferred\">FGA-related condition</ElementValue>\n",
      "        </Name>\n",
      "      </Trait>\n",
      "    </TraitSet>\n",
      "  </ClinVarAssertion>\n",
      "</ClinVarSet>\n",
      "\n",
      "\n"
     ]
    }
   ],
   "source": [
    "pprint(previous_cvs.cvs_xml)"
   ]
  },
  {
   "cell_type": "code",
   "execution_count": 25,
   "id": "d1f616de-eac7-4550-9312-04080828e92b",
   "metadata": {},
   "outputs": [
    {
     "name": "stdout",
     "output_type": "stream",
     "text": [
      "<ClinVarSet ID=\"243249944\">\n",
      "  <RecordStatus>current</RecordStatus>\n",
      "  <Title>NM_021871.4(FGA):c.804G&gt;A (p.Glu268=) AND FGA-related disorder</Title>\n",
      "  <ReferenceClinVarAssertion ID=\"9766709\" DateLastUpdated=\"2024-11-24\" DateCreated=\"2024-05-12\">\n",
      "    <ClinVarAccession Acc=\"RCV004534523\" Version=\"2\" Type=\"RCV\" DateUpdated=\"2024-11-24\" DateCreated=\"2024-05-12\" />\n",
      "    <RecordStatus>current</RecordStatus>\n",
      "    <Classifications>\n",
      "      <GermlineClassification>\n",
      "        <ReviewStatus>no assertion criteria provided</ReviewStatus>\n",
      "        <Description DateLastEvaluated=\"2023-12-20\" SubmissionCount=\"1\">Likely benign</Description>\n",
      "      </GermlineClassification>\n",
      "    </Classifications>\n",
      "    <Assertion Type=\"variation to disease\" />\n",
      "    <ObservedIn>\n",
      "      <Sample>\n",
      "        <Origin>germline</Origin>\n",
      "        <Species TaxonomyId=\"9606\">human</Species>\n",
      "        <AffectedStatus>unknown</AffectedStatus>\n",
      "      </Sample>\n",
      "      <Method>\n",
      "        <MethodType>clinical testing</MethodType>\n",
      "      </Method>\n",
      "      <ObservedData ID=\"170478219\">\n",
      "        <Attribute Type=\"Description\">not provided</Attribute>\n",
      "      </ObservedData>\n",
      "    </ObservedIn>\n",
      "    <MeasureSet Type=\"Variant\" ID=\"3031849\" Acc=\"VCV003031849\" Version=\"2\">\n",
      "      <Measure Type=\"single nucleotide variant\" ID=\"3201681\">\n",
      "        <Name>\n",
      "          <ElementValue Type=\"Preferred\">NM_021871.4(FGA):c.804G&gt;A (p.Glu268=)</ElementValue>\n",
      "        </Name>\n",
      "        <CanonicalSPDI>NC_000004.12:154586624:C:T</CanonicalSPDI>\n",
      "        <AttributeSet>\n",
      "          <Attribute Accession=\"LRG_557t1\" Type=\"HGVS, coding, LRG\">LRG_557t1:c.804G&gt;A</Attribute>\n",
      "        </AttributeSet>\n",
      "        <AttributeSet>\n",
      "          <Attribute Accession=\"LRG_557t2\" Type=\"HGVS, coding, LRG\">LRG_557t2:c.804G&gt;A</Attribute>\n",
      "        </AttributeSet>\n",
      "        <AttributeSet>\n",
      "          <Attribute Accession=\"NM_000508\" Version=\"5\" Change=\"c.804G&gt;A\" Type=\"HGVS, coding, RefSeq\">NM_000508.5:c.804G&gt;A</Attribute>\n",
      "        </AttributeSet>\n",
      "        <AttributeSet>\n",
      "          <Attribute Accession=\"NM_021871\" Version=\"4\" Change=\"c.804G&gt;A\" Type=\"HGVS, coding, RefSeq\" MANESelect=\"true\">NM_021871.4:c.804G&gt;A</Attribute>\n",
      "        </AttributeSet>\n",
      "        <AttributeSet>\n",
      "          <Attribute Accession=\"LRG_557\" Type=\"HGVS, genomic, LRG\">LRG_557:g.9121G&gt;A</Attribute>\n",
      "        </AttributeSet>\n",
      "        <AttributeSet>\n",
      "          <Attribute Accession=\"NG_008832\" Version=\"1\" Change=\"g.9121G&gt;A\" Type=\"HGVS, genomic, RefSeqGene\">NG_008832.1:g.9121G&gt;A</Attribute>\n",
      "        </AttributeSet>\n",
      "        <AttributeSet>\n",
      "          <Attribute Accession=\"NC_000004\" Version=\"12\" Change=\"g.154586625C&gt;T\" Type=\"HGVS, genomic, top level\" integerValue=\"38\">NC_000004.12:g.154586625C&gt;T</Attribute>\n",
      "        </AttributeSet>\n",
      "        <AttributeSet>\n",
      "          <Attribute Accession=\"NC_000004\" Version=\"11\" Change=\"g.155507777C&gt;T\" Type=\"HGVS, genomic, top level, previous\" integerValue=\"37\">NC_000004.11:g.155507777C&gt;T</Attribute>\n",
      "        </AttributeSet>\n",
      "        <AttributeSet>\n",
      "          <Attribute Accession=\"NM_000508\" Version=\"3\" Change=\"c.804G&gt;A\" Type=\"HGVS, previous\">NM_000508.3:c.804G&gt;A</Attribute>\n",
      "        </AttributeSet>\n",
      "        <AttributeSet>\n",
      "          <Attribute Accession=\"NM_000508\" Version=\"4\" Change=\"c.804G&gt;A\" Type=\"HGVS, previous\">NM_000508.4:c.804G&gt;A</Attribute>\n",
      "        </AttributeSet>\n",
      "        <AttributeSet>\n",
      "          <Attribute Accession=\"NM_021871\" Version=\"2\" Change=\"c.804G&gt;A\" Type=\"HGVS, previous\">NM_021871.2:c.804G&gt;A</Attribute>\n",
      "        </AttributeSet>\n",
      "        <AttributeSet>\n",
      "          <Attribute Type=\"HGVS, protein\" />\n",
      "        </AttributeSet>\n",
      "        <AttributeSet>\n",
      "          <Attribute Accession=\"LRG_557p1\" Change=\"p.Glu268=\" Type=\"HGVS, protein\">LRG_557p1:p.Glu268=</Attribute>\n",
      "        </AttributeSet>\n",
      "        <AttributeSet>\n",
      "          <Attribute Accession=\"LRG_557p2\" Change=\"p.Glu268=\" Type=\"HGVS, protein\">LRG_557p2:p.Glu268=</Attribute>\n",
      "        </AttributeSet>\n",
      "        <AttributeSet>\n",
      "          <Attribute Accession=\"NP_000499\" Version=\"1\" Change=\"p.Glu268=\" Type=\"HGVS, protein, RefSeq\">NP_000499.1:p.Glu268=</Attribute>\n",
      "        </AttributeSet>\n",
      "        <AttributeSet>\n",
      "          <Attribute Accession=\"NP_000499\" Version=\"1\" Change=\"p.Glu268=\" Type=\"HGVS, protein, RefSeq\">NP_000499.1:p.Glu268=</Attribute>\n",
      "        </AttributeSet>\n",
      "        <AttributeSet>\n",
      "          <Attribute Accession=\"NP_068657\" Version=\"1\" Change=\"p.Glu268=\" Type=\"HGVS, protein, RefSeq\">NP_068657.1:p.Glu268=</Attribute>\n",
      "        </AttributeSet>\n",
      "        <AttributeSet>\n",
      "          <Attribute Accession=\"NP_068657\" Version=\"1\" Change=\"p.Glu268=\" Type=\"HGVS, protein, RefSeq\">NP_068657.1:p.Glu268=</Attribute>\n",
      "        </AttributeSet>\n",
      "        <AttributeSet>\n",
      "          <Attribute Type=\"MolecularConsequence\">synonymous variant</Attribute>\n",
      "          <XRef ID=\"SO:0001819\" DB=\"Sequence Ontology\" />\n",
      "          <XRef ID=\"NM_000508.5:c.804G&gt;A\" DB=\"RefSeq\" />\n",
      "        </AttributeSet>\n",
      "        <AttributeSet>\n",
      "          <Attribute Type=\"MolecularConsequence\">synonymous variant</Attribute>\n",
      "          <XRef ID=\"SO:0001819\" DB=\"Sequence Ontology\" />\n",
      "          <XRef ID=\"NM_021871.4:c.804G&gt;A\" DB=\"RefSeq\" />\n",
      "        </AttributeSet>\n",
      "        <CytogeneticLocation>4q31.3</CytogeneticLocation>\n",
      "        <SequenceLocation Assembly=\"GRCh38\" AssemblyAccessionVersion=\"GCF_000001405.38\" AssemblyStatus=\"current\" Chr=\"4\" Accession=\"NC_000004.12\" start=\"154586625\" stop=\"154586625\" display_start=\"154586625\" display_stop=\"154586625\" variantLength=\"1\" positionVCF=\"154586625\" referenceAlleleVCF=\"C\" alternateAlleleVCF=\"T\" />\n",
      "        <SequenceLocation Assembly=\"GRCh37\" AssemblyAccessionVersion=\"GCF_000001405.25\" AssemblyStatus=\"previous\" Chr=\"4\" Accession=\"NC_000004.11\" start=\"155507777\" stop=\"155507777\" display_start=\"155507777\" display_stop=\"155507777\" variantLength=\"1\" positionVCF=\"155507777\" referenceAlleleVCF=\"C\" alternateAlleleVCF=\"T\" />\n",
      "        <MeasureRelationship Type=\"within single gene\">\n",
      "          <Name>\n",
      "            <ElementValue Type=\"Preferred\">fibrinogen alpha chain</ElementValue>\n",
      "          </Name>\n",
      "          <Symbol>\n",
      "            <ElementValue Type=\"Preferred\">FGA</ElementValue>\n",
      "          </Symbol>\n",
      "          <SequenceLocation Assembly=\"GRCh38\" AssemblyAccessionVersion=\"GCF_000001405.38\" AssemblyStatus=\"current\" Chr=\"4\" Accession=\"NC_000004.12\" start=\"154583126\" stop=\"154590742\" display_start=\"154583126\" display_stop=\"154590742\" Strand=\"-\" />\n",
      "          <SequenceLocation Assembly=\"GRCh37\" AssemblyAccessionVersion=\"GCF_000001405.25\" AssemblyStatus=\"previous\" Chr=\"4\" Accession=\"NC_000004.11\" start=\"155504279\" stop=\"155511896\" display_start=\"155504279\" display_stop=\"155511896\" variantLength=\"7618\" Strand=\"-\" />\n",
      "          <XRef ID=\"2243\" DB=\"Gene\" />\n",
      "          <XRef Type=\"MIM\" ID=\"134820\" DB=\"OMIM\" />\n",
      "          <XRef ID=\"HGNC:3661\" DB=\"HGNC\" />\n",
      "        </MeasureRelationship>\n",
      "      </Measure>\n",
      "      <Name>\n",
      "        <ElementValue Type=\"Preferred\">NM_021871.4(FGA):c.804G&gt;A (p.Glu268=)</ElementValue>\n",
      "      </Name>\n",
      "      <AttributeSet>\n",
      "        <Attribute Type=\"SubmitterVariantId\">17281187</Attribute>\n",
      "      </AttributeSet>\n",
      "    </MeasureSet>\n",
      "    <TraitSet Type=\"Disease\" ID=\"47366\">\n",
      "      <Trait ID=\"41700\" Type=\"Disease\">\n",
      "        <Name>\n",
      "          <ElementValue Type=\"Preferred\">FGA-related disorder</ElementValue>\n",
      "        </Name>\n",
      "        <Name>\n",
      "          <ElementValue Type=\"Alternate\">FGA-Related Disorders</ElementValue>\n",
      "        </Name>\n",
      "        <Name>\n",
      "          <ElementValue Type=\"Alternate\">FGA-related condition</ElementValue>\n",
      "        </Name>\n",
      "      </Trait>\n",
      "    </TraitSet>\n",
      "  </ReferenceClinVarAssertion>\n",
      "  <ClinVarAssertion ID=\"8796584\">\n",
      "    <ClinVarSubmissionID localKey=\"17281187|FGA-related condition\" submitter=\"PreventionGenetics, part of Exact Sciences\" submitterDate=\"2024-10-02\" />\n",
      "    <ClinVarAccession Acc=\"SCV004714623\" Version=\"2\" Type=\"SCV\" OrgID=\"239772\" OrganizationCategory=\"laboratory\" OrgType=\"primary\" DateUpdated=\"2024-10-08\" DateCreated=\"2024-03-16\" />\n",
      "    <RecordStatus>current</RecordStatus>\n",
      "    <Classification DateLastEvaluated=\"2023-12-20\">\n",
      "      <ReviewStatus>no assertion criteria provided</ReviewStatus>\n",
      "      <GermlineClassification>Likely benign</GermlineClassification>\n",
      "      <Comment>This variant is classified as likely benign based on ACMG/AMP sequence variant interpretation guidelines (Richards et al. 2015 PMID: 25741868, with internal and published modifications).</Comment>\n",
      "    </Classification>\n",
      "    <Assertion Type=\"variation to disease\" />\n",
      "    <ObservedIn>\n",
      "      <Sample>\n",
      "        <Origin>germline</Origin>\n",
      "        <Species TaxonomyId=\"9606\">human</Species>\n",
      "        <AffectedStatus>unknown</AffectedStatus>\n",
      "      </Sample>\n",
      "      <Method>\n",
      "        <MethodType>clinical testing</MethodType>\n",
      "      </Method>\n",
      "      <ObservedData>\n",
      "        <Attribute Type=\"Description\">not provided</Attribute>\n",
      "      </ObservedData>\n",
      "    </ObservedIn>\n",
      "    <MeasureSet Type=\"Variant\">\n",
      "      <Measure Type=\"Variation\">\n",
      "        <AttributeSet>\n",
      "          <Attribute Type=\"HGVS\">NM_000508.4:c.804G&gt;A</Attribute>\n",
      "        </AttributeSet>\n",
      "        <MeasureRelationship Type=\"variant in gene\">\n",
      "          <Symbol>\n",
      "            <ElementValue Type=\"Preferred\">FGA</ElementValue>\n",
      "          </Symbol>\n",
      "        </MeasureRelationship>\n",
      "      </Measure>\n",
      "      <AttributeSet>\n",
      "        <Attribute Type=\"SubmitterVariantId\">17281187</Attribute>\n",
      "      </AttributeSet>\n",
      "    </MeasureSet>\n",
      "    <TraitSet Type=\"Disease\">\n",
      "      <Trait Type=\"Disease\">\n",
      "        <Name>\n",
      "          <ElementValue Type=\"Preferred\">FGA-related condition</ElementValue>\n",
      "        </Name>\n",
      "      </Trait>\n",
      "    </TraitSet>\n",
      "  </ClinVarAssertion>\n",
      "</ClinVarSet>\n",
      "\n",
      "\n"
     ]
    }
   ],
   "source": [
    "pprint(current_cvs.cvs_xml)"
   ]
  },
  {
   "cell_type": "markdown",
   "id": "f008e894-52f0-4870-9e00-06d83fd8bc75",
   "metadata": {},
   "source": [
    "Quick follow-up to confirm the original submission ID (`SUB14299258`) still refers to the same submission."
   ]
  },
  {
   "cell_type": "code",
   "execution_count": 12,
   "id": "966ed644-971e-44b8-a77a-285d0555b3b2",
   "metadata": {},
   "outputs": [],
   "source": [
    "submitter_ids = set()\n",
    "trait_terms = set()\n",
    "\n",
    "for cvs in current_set.iter_cvs():\n",
    "    for scv in cvs.scvs:\n",
    "        include = False\n",
    "        # Excluded submission\n",
    "        if scv.submission_name in submission_names_to_exclude:\n",
    "            submitter_ids.add(scv.submitter_id)\n",
    "            include = True\n",
    "    if include:\n",
    "        for trait in cvs.rcv.traits_with_valid_names:\n",
    "            trait_terms.add(trait.preferred_or_other_valid_name)"
   ]
  },
  {
   "cell_type": "code",
   "execution_count": 13,
   "id": "f940321a-67d8-4c15-ba80-802abeea2297",
   "metadata": {},
   "outputs": [
    {
     "data": {
      "text/plain": [
       "{'239772'}"
      ]
     },
     "execution_count": 13,
     "metadata": {},
     "output_type": "execute_result"
    }
   ],
   "source": [
    "submitter_ids"
   ]
  },
  {
   "cell_type": "code",
   "execution_count": 14,
   "id": "dc9be0ca-2626-4b95-a690-05741bb62c6c",
   "metadata": {
    "scrolled": true
   },
   "outputs": [
    {
     "data": {
      "text/plain": [
       "{'ABO-related disorder',\n",
       " 'ADGRE2-related disorder',\n",
       " 'ADRA2B-related disorder',\n",
       " 'AGRN-related disorder',\n",
       " 'ALMS1-related disorder',\n",
       " 'ARMC9-related disorder',\n",
       " 'ASXL2-related disorder',\n",
       " 'BIVM-ERCC5-related disorder',\n",
       " 'C2-related disorder',\n",
       " 'CACNA1A-related disorder',\n",
       " 'CADPS-related disorder',\n",
       " 'CASP12-related disorder',\n",
       " 'CBS-related disorder',\n",
       " 'CCNQ-related disorder',\n",
       " 'CD36-related disorder',\n",
       " 'CEP290-related disorder',\n",
       " 'CHCHD10-related disorder',\n",
       " 'CHMP2B-related disorder',\n",
       " 'CLASP1-related disorder',\n",
       " 'CNTNAP4-related disorder',\n",
       " 'COL18A1-related disorder',\n",
       " 'COL7A1-related disorder',\n",
       " 'EMG1-related disorder',\n",
       " 'EPPK1-related disorder',\n",
       " 'FMN2-related disorder',\n",
       " 'FOLR3-related disorder',\n",
       " 'FOXD1-related disorder',\n",
       " 'FUS-related disorder',\n",
       " 'HNF1A-related disorder',\n",
       " 'HTT-related disorder',\n",
       " 'KCNJ18-related disorder',\n",
       " 'KDM5C-related disorder',\n",
       " 'KIF5A-related disorder',\n",
       " 'KIR2DL1-related disorder',\n",
       " 'KMT2D-related disorder',\n",
       " 'LTBP4-related disorder',\n",
       " 'MANF-related disorder',\n",
       " 'MAP3K14-related disorder',\n",
       " 'MFSD8-related disorder',\n",
       " 'MIAT-related disorder',\n",
       " 'MIR204-related disorder',\n",
       " 'MKI67-related disorder',\n",
       " 'MOBP-related disorder',\n",
       " 'MYH2-related disorder',\n",
       " 'MYH9-related disorder',\n",
       " 'MYOM2-related disorder',\n",
       " 'NCAPD3-related disorder',\n",
       " 'NEK1-related disorder',\n",
       " 'NPC1-related disorder',\n",
       " 'ODAD4-related disorder',\n",
       " 'ORAI1-related disorder',\n",
       " 'PCLO-related disorder',\n",
       " 'PCSK1-related disorder',\n",
       " 'PI4KA-related disorder',\n",
       " 'PKD1L1-related disorder',\n",
       " 'POU4F1-related disorder',\n",
       " 'PPIP5K2-related disorder',\n",
       " 'PPP1R9B-related disorder',\n",
       " 'PRKDC-related disorder',\n",
       " 'PTEN-related disorder',\n",
       " 'PTPRQ-related disorder',\n",
       " 'RAI1-related disorder',\n",
       " 'RNU4ATAC-related disorder',\n",
       " 'RPS10-NUDT3-related disorder',\n",
       " 'RPS10-related disorder',\n",
       " 'RYK-related disorder',\n",
       " 'SAMD11-related disorder',\n",
       " 'SEMA3B-related disorder',\n",
       " 'SHANK2-related disorder',\n",
       " 'SHANK3-related disorder',\n",
       " 'SMARCAL1-related disorder',\n",
       " 'SOD1-related disorder',\n",
       " 'SOS2-related disorder',\n",
       " 'SQSTM1-related disorder',\n",
       " 'SRD5A2-related disorder',\n",
       " 'SYNM-related disorder',\n",
       " 'TAF15-related disorder',\n",
       " 'TBK1-related disorder',\n",
       " 'TMEM114-related disorder',\n",
       " 'TOR1AIP1-related disorder',\n",
       " 'TREH-related disorder',\n",
       " 'TRPM3-related disorder',\n",
       " 'TSC1-related disorder',\n",
       " 'USH1C-related disorder',\n",
       " 'USO1-related disorder',\n",
       " 'USP9Y-related disorder',\n",
       " 'ZBTB12-related disorder'}"
      ]
     },
     "execution_count": 14,
     "metadata": {},
     "output_type": "execute_result"
    }
   ],
   "source": [
    "trait_terms"
   ]
  },
  {
   "cell_type": "code",
   "execution_count": null,
   "id": "6ef71176-eb85-4833-85a0-0aac86a94f62",
   "metadata": {},
   "outputs": [],
   "source": []
  }
 ],
 "metadata": {
  "kernelspec": {
   "display_name": "Python 3 (ipykernel)",
   "language": "python",
   "name": "python3"
  },
  "language_info": {
   "codemirror_mode": {
    "name": "ipython",
    "version": 3
   },
   "file_extension": ".py",
   "mimetype": "text/x-python",
   "name": "python",
   "nbconvert_exporter": "python",
   "pygments_lexer": "ipython3",
   "version": "3.12.3"
  }
 },
 "nbformat": 4,
 "nbformat_minor": 5
}
